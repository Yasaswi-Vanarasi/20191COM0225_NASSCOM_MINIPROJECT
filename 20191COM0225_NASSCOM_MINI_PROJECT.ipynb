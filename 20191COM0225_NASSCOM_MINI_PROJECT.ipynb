{
  "nbformat": 4,
  "nbformat_minor": 0,
  "metadata": {
    "colab": {
      "name": "20191COM0225_NASSCOM_MINI_PROJECT.ipynb",
      "provenance": [],
      "authorship_tag": "ABX9TyP1CN4pi2w5n5VK4HhuEf0z",
      "include_colab_link": true
    },
    "kernelspec": {
      "name": "python3",
      "display_name": "Python 3"
    },
    "language_info": {
      "name": "python"
    }
  },
  "cells": [
    {
      "cell_type": "markdown",
      "metadata": {
        "id": "view-in-github",
        "colab_type": "text"
      },
      "source": [
        "<a href=\"https://colab.research.google.com/github/Yasaswi-Vanarasi/20191COM0225_NASSCOM_MINIPROJECT/blob/main/20191COM0225_NASSCOM_MINI_PROJECT.ipynb\" target=\"_parent\"><img src=\"https://colab.research.google.com/assets/colab-badge.svg\" alt=\"Open In Colab\"/></a>"
      ]
    },
    {
      "cell_type": "markdown",
      "metadata": {
        "id": "MrqUTkW9Ksl0"
      },
      "source": [
        "#**TOP SONGS FROM SPOTIFY-EXPLORATORY DATA ANALYSIS**"
      ]
    },
    {
      "cell_type": "markdown",
      "metadata": {
        "id": "aBB3-Cs5K0MN"
      },
      "source": [
        "#**The purpose of this EDA is to find out if any of the features of the song contributes to its popularity. I also builded a few models to predict popularity based on features available in dataset.**"
      ]
    },
    {
      "cell_type": "markdown",
      "metadata": {
        "id": "j6w4LftCK32S"
      },
      "source": [
        "#**UPLOADING THE DATASET**"
      ]
    },
    {
      "cell_type": "code",
      "metadata": {
        "colab": {
          "resources": {
            "http://localhost:8080/nbextensions/google.colab/files.js": {
              "data": "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",
              "ok": true,
              "headers": [
                [
                  "content-type",
                  "application/javascript"
                ]
              ],
              "status": 200,
              "status_text": ""
            }
          },
          "base_uri": "https://localhost:8080/",
          "height": 73
        },
        "id": "eSE4mAMNK_B2",
        "outputId": "61e53621-dd1a-44a0-a130-0420d4ea9a87"
      },
      "source": [
        "from google.colab import files\n",
        "uploaded = files.upload()"
      ],
      "execution_count": null,
      "outputs": [
        {
          "output_type": "display_data",
          "data": {
            "text/html": [
              "\n",
              "     <input type=\"file\" id=\"files-a4ccb0d5-4d10-45df-853d-c683516a4488\" name=\"files[]\" multiple disabled\n",
              "        style=\"border:none\" />\n",
              "     <output id=\"result-a4ccb0d5-4d10-45df-853d-c683516a4488\">\n",
              "      Upload widget is only available when the cell has been executed in the\n",
              "      current browser session. Please rerun this cell to enable.\n",
              "      </output>\n",
              "      <script src=\"/nbextensions/google.colab/files.js\"></script> "
            ],
            "text/plain": [
              "<IPython.core.display.HTML object>"
            ]
          },
          "metadata": {}
        },
        {
          "output_type": "stream",
          "name": "stdout",
          "text": [
            "Saving top50.csv to top50 (1).csv\n"
          ]
        }
      ]
    },
    {
      "cell_type": "markdown",
      "metadata": {
        "id": "Q4FtWS5zLUXi"
      },
      "source": [
        "#**IMPORTING THE REQUIRED LIBRARIES**"
      ]
    },
    {
      "cell_type": "code",
      "metadata": {
        "id": "hej7DHw7LYLG"
      },
      "source": [
        "import numpy as np\n",
        "import pandas as pd \n",
        "import matplotlib.pyplot as plt\n",
        "%matplotlib inline\n",
        "import seaborn as sns\n",
        "from scipy import stats\n",
        "from statsmodels.stats.outliers_influence import variance_inflation_factor\n",
        "from sklearn.model_selection import train_test_split\n",
        "from sklearn.neighbors import KNeighborsRegressor\n",
        "from sklearn.metrics import mean_squared_error\n",
        "from math import sqrt\n",
        "from sklearn.ensemble import RandomForestClassifier\n",
        "from sklearn import metrics\n",
        "from sklearn.preprocessing import MinMaxScaler"
      ],
      "execution_count": null,
      "outputs": []
    },
    {
      "cell_type": "markdown",
      "metadata": {
        "id": "9Ybj5S-iLbSu"
      },
      "source": [
        "#**Create a dataframe and display  the dataset**"
      ]
    },
    {
      "cell_type": "code",
      "metadata": {
        "colab": {
          "base_uri": "https://localhost:8080/",
          "height": 304
        },
        "id": "ryrRwe3HLpQy",
        "outputId": "d1d7e33e-ecba-48d8-fff5-71621f5bab5b"
      },
      "source": [
        "df =pd.read_csv('top50.csv',encoding='ISO-8859-1')\n",
        "df.head()"
      ],
      "execution_count": null,
      "outputs": [
        {
          "output_type": "execute_result",
          "data": {
            "text/html": [
              "<div>\n",
              "<style scoped>\n",
              "    .dataframe tbody tr th:only-of-type {\n",
              "        vertical-align: middle;\n",
              "    }\n",
              "\n",
              "    .dataframe tbody tr th {\n",
              "        vertical-align: top;\n",
              "    }\n",
              "\n",
              "    .dataframe thead th {\n",
              "        text-align: right;\n",
              "    }\n",
              "</style>\n",
              "<table border=\"1\" class=\"dataframe\">\n",
              "  <thead>\n",
              "    <tr style=\"text-align: right;\">\n",
              "      <th></th>\n",
              "      <th>Unnamed: 0</th>\n",
              "      <th>Track.Name</th>\n",
              "      <th>Artist.Name</th>\n",
              "      <th>Genre</th>\n",
              "      <th>Beats.Per.Minute</th>\n",
              "      <th>Energy</th>\n",
              "      <th>Danceability</th>\n",
              "      <th>Loudness..dB..</th>\n",
              "      <th>Liveness</th>\n",
              "      <th>Valence.</th>\n",
              "      <th>Length.</th>\n",
              "      <th>Acousticness..</th>\n",
              "      <th>Speechiness.</th>\n",
              "      <th>Popularity</th>\n",
              "    </tr>\n",
              "  </thead>\n",
              "  <tbody>\n",
              "    <tr>\n",
              "      <th>0</th>\n",
              "      <td>1</td>\n",
              "      <td>Señorita</td>\n",
              "      <td>Shawn Mendes</td>\n",
              "      <td>canadian pop</td>\n",
              "      <td>117</td>\n",
              "      <td>55</td>\n",
              "      <td>76</td>\n",
              "      <td>-6</td>\n",
              "      <td>8</td>\n",
              "      <td>75</td>\n",
              "      <td>191.90</td>\n",
              "      <td>4</td>\n",
              "      <td>3</td>\n",
              "      <td>79</td>\n",
              "    </tr>\n",
              "    <tr>\n",
              "      <th>1</th>\n",
              "      <td>2</td>\n",
              "      <td>China</td>\n",
              "      <td>Anuel AA</td>\n",
              "      <td>reggaeton flow</td>\n",
              "      <td>105</td>\n",
              "      <td>81</td>\n",
              "      <td>79</td>\n",
              "      <td>-4</td>\n",
              "      <td>8</td>\n",
              "      <td>61</td>\n",
              "      <td>302.12</td>\n",
              "      <td>8</td>\n",
              "      <td>9</td>\n",
              "      <td>92</td>\n",
              "    </tr>\n",
              "    <tr>\n",
              "      <th>2</th>\n",
              "      <td>3</td>\n",
              "      <td>boyfriend (with Social House)</td>\n",
              "      <td>Ariana Grande</td>\n",
              "      <td>dance pop</td>\n",
              "      <td>190</td>\n",
              "      <td>80</td>\n",
              "      <td>40</td>\n",
              "      <td>-4</td>\n",
              "      <td>16</td>\n",
              "      <td>70</td>\n",
              "      <td>186.00</td>\n",
              "      <td>12</td>\n",
              "      <td>46</td>\n",
              "      <td>85</td>\n",
              "    </tr>\n",
              "    <tr>\n",
              "      <th>3</th>\n",
              "      <td>4</td>\n",
              "      <td>Beautiful People (feat. Khalid)</td>\n",
              "      <td>Ed Sheeran</td>\n",
              "      <td>pop</td>\n",
              "      <td>93</td>\n",
              "      <td>65</td>\n",
              "      <td>64</td>\n",
              "      <td>-8</td>\n",
              "      <td>8</td>\n",
              "      <td>55</td>\n",
              "      <td>198.12</td>\n",
              "      <td>12</td>\n",
              "      <td>19</td>\n",
              "      <td>86</td>\n",
              "    </tr>\n",
              "    <tr>\n",
              "      <th>4</th>\n",
              "      <td>5</td>\n",
              "      <td>Goodbyes (Feat. Young Thug)</td>\n",
              "      <td>Post Malone</td>\n",
              "      <td>dfw rap</td>\n",
              "      <td>150</td>\n",
              "      <td>65</td>\n",
              "      <td>58</td>\n",
              "      <td>-4</td>\n",
              "      <td>11</td>\n",
              "      <td>18</td>\n",
              "      <td>175.18</td>\n",
              "      <td>45</td>\n",
              "      <td>7</td>\n",
              "      <td>94</td>\n",
              "    </tr>\n",
              "  </tbody>\n",
              "</table>\n",
              "</div>"
            ],
            "text/plain": [
              "   Unnamed: 0                       Track.Name  ... Speechiness. Popularity\n",
              "0           1                         Señorita  ...            3         79\n",
              "1           2                            China  ...            9         92\n",
              "2           3    boyfriend (with Social House)  ...           46         85\n",
              "3           4  Beautiful People (feat. Khalid)  ...           19         86\n",
              "4           5      Goodbyes (Feat. Young Thug)  ...            7         94\n",
              "\n",
              "[5 rows x 14 columns]"
            ]
          },
          "metadata": {},
          "execution_count": 18
        }
      ]
    },
    {
      "cell_type": "code",
      "metadata": {
        "colab": {
          "base_uri": "https://localhost:8080/"
        },
        "id": "90H1Wza1LxXz",
        "outputId": "9ee19e62-fdb4-4af2-de60-4525b2ab671a"
      },
      "source": [
        "df.shape"
      ],
      "execution_count": null,
      "outputs": [
        {
          "output_type": "execute_result",
          "data": {
            "text/plain": [
              "(50, 14)"
            ]
          },
          "metadata": {},
          "execution_count": 19
        }
      ]
    },
    {
      "cell_type": "code",
      "metadata": {
        "colab": {
          "base_uri": "https://localhost:8080/"
        },
        "id": "wNq2HuZfLxjK",
        "outputId": "50ccc048-e6cb-4e21-d9cc-c604d0e2080c"
      },
      "source": [
        "df.columns"
      ],
      "execution_count": null,
      "outputs": [
        {
          "output_type": "execute_result",
          "data": {
            "text/plain": [
              "Index(['Unnamed: 0', 'Track.Name', 'Artist.Name', 'Genre', 'Beats.Per.Minute',\n",
              "       'Energy', 'Danceability', 'Loudness..dB..', 'Liveness', 'Valence.',\n",
              "       'Length.', 'Acousticness..', 'Speechiness.', 'Popularity'],\n",
              "      dtype='object')"
            ]
          },
          "metadata": {},
          "execution_count": 20
        }
      ]
    },
    {
      "cell_type": "code",
      "metadata": {
        "colab": {
          "base_uri": "https://localhost:8080/"
        },
        "id": "7c5AW4g2Lxq4",
        "outputId": "d06015e6-71f7-4d3a-85dc-894cddb8e5a9"
      },
      "source": [
        "df.info()"
      ],
      "execution_count": null,
      "outputs": [
        {
          "output_type": "stream",
          "name": "stdout",
          "text": [
            "<class 'pandas.core.frame.DataFrame'>\n",
            "RangeIndex: 50 entries, 0 to 49\n",
            "Data columns (total 14 columns):\n",
            " #   Column            Non-Null Count  Dtype  \n",
            "---  ------            --------------  -----  \n",
            " 0   Unnamed: 0        50 non-null     int64  \n",
            " 1   Track.Name        50 non-null     object \n",
            " 2   Artist.Name       50 non-null     object \n",
            " 3   Genre             50 non-null     object \n",
            " 4   Beats.Per.Minute  50 non-null     int64  \n",
            " 5   Energy            50 non-null     int64  \n",
            " 6   Danceability      50 non-null     int64  \n",
            " 7   Loudness..dB..    50 non-null     int64  \n",
            " 8   Liveness          50 non-null     int64  \n",
            " 9   Valence.          50 non-null     int64  \n",
            " 10  Length.           50 non-null     float64\n",
            " 11  Acousticness..    50 non-null     int64  \n",
            " 12  Speechiness.      50 non-null     int64  \n",
            " 13  Popularity        50 non-null     int64  \n",
            "dtypes: float64(1), int64(10), object(3)\n",
            "memory usage: 5.6+ KB\n"
          ]
        }
      ]
    },
    {
      "cell_type": "code",
      "metadata": {
        "colab": {
          "base_uri": "https://localhost:8080/",
          "height": 295
        },
        "id": "VyYeN-SVL9sZ",
        "outputId": "06aaf967-eb6c-40a9-a59f-d19723b9a36f"
      },
      "source": [
        "df.describe()"
      ],
      "execution_count": null,
      "outputs": [
        {
          "output_type": "execute_result",
          "data": {
            "text/html": [
              "<div>\n",
              "<style scoped>\n",
              "    .dataframe tbody tr th:only-of-type {\n",
              "        vertical-align: middle;\n",
              "    }\n",
              "\n",
              "    .dataframe tbody tr th {\n",
              "        vertical-align: top;\n",
              "    }\n",
              "\n",
              "    .dataframe thead th {\n",
              "        text-align: right;\n",
              "    }\n",
              "</style>\n",
              "<table border=\"1\" class=\"dataframe\">\n",
              "  <thead>\n",
              "    <tr style=\"text-align: right;\">\n",
              "      <th></th>\n",
              "      <th>Unnamed: 0</th>\n",
              "      <th>Beats.Per.Minute</th>\n",
              "      <th>Energy</th>\n",
              "      <th>Danceability</th>\n",
              "      <th>Loudness..dB..</th>\n",
              "      <th>Liveness</th>\n",
              "      <th>Valence.</th>\n",
              "      <th>Length.</th>\n",
              "      <th>Acousticness..</th>\n",
              "      <th>Speechiness.</th>\n",
              "      <th>Popularity</th>\n",
              "    </tr>\n",
              "  </thead>\n",
              "  <tbody>\n",
              "    <tr>\n",
              "      <th>count</th>\n",
              "      <td>50.00000</td>\n",
              "      <td>50.000000</td>\n",
              "      <td>50.000000</td>\n",
              "      <td>50.00000</td>\n",
              "      <td>50.000000</td>\n",
              "      <td>50.000000</td>\n",
              "      <td>50.000000</td>\n",
              "      <td>50.000000</td>\n",
              "      <td>50.000000</td>\n",
              "      <td>50.000000</td>\n",
              "      <td>50.000000</td>\n",
              "    </tr>\n",
              "    <tr>\n",
              "      <th>mean</th>\n",
              "      <td>25.50000</td>\n",
              "      <td>120.060000</td>\n",
              "      <td>64.060000</td>\n",
              "      <td>71.38000</td>\n",
              "      <td>-5.660000</td>\n",
              "      <td>14.660000</td>\n",
              "      <td>54.600000</td>\n",
              "      <td>201.132040</td>\n",
              "      <td>22.160000</td>\n",
              "      <td>12.480000</td>\n",
              "      <td>87.500000</td>\n",
              "    </tr>\n",
              "    <tr>\n",
              "      <th>std</th>\n",
              "      <td>14.57738</td>\n",
              "      <td>30.898392</td>\n",
              "      <td>14.231913</td>\n",
              "      <td>11.92988</td>\n",
              "      <td>2.056448</td>\n",
              "      <td>11.118306</td>\n",
              "      <td>22.336024</td>\n",
              "      <td>39.100905</td>\n",
              "      <td>18.995553</td>\n",
              "      <td>11.161596</td>\n",
              "      <td>4.491489</td>\n",
              "    </tr>\n",
              "    <tr>\n",
              "      <th>min</th>\n",
              "      <td>1.00000</td>\n",
              "      <td>85.000000</td>\n",
              "      <td>32.000000</td>\n",
              "      <td>29.00000</td>\n",
              "      <td>-11.000000</td>\n",
              "      <td>5.000000</td>\n",
              "      <td>10.000000</td>\n",
              "      <td>115.000000</td>\n",
              "      <td>1.000000</td>\n",
              "      <td>3.000000</td>\n",
              "      <td>70.000000</td>\n",
              "    </tr>\n",
              "    <tr>\n",
              "      <th>25%</th>\n",
              "      <td>13.25000</td>\n",
              "      <td>96.000000</td>\n",
              "      <td>55.250000</td>\n",
              "      <td>67.00000</td>\n",
              "      <td>-6.750000</td>\n",
              "      <td>8.000000</td>\n",
              "      <td>38.250000</td>\n",
              "      <td>176.750000</td>\n",
              "      <td>8.250000</td>\n",
              "      <td>5.000000</td>\n",
              "      <td>86.000000</td>\n",
              "    </tr>\n",
              "    <tr>\n",
              "      <th>50%</th>\n",
              "      <td>25.50000</td>\n",
              "      <td>104.500000</td>\n",
              "      <td>66.500000</td>\n",
              "      <td>73.50000</td>\n",
              "      <td>-6.000000</td>\n",
              "      <td>11.000000</td>\n",
              "      <td>55.500000</td>\n",
              "      <td>198.060000</td>\n",
              "      <td>15.000000</td>\n",
              "      <td>7.000000</td>\n",
              "      <td>88.000000</td>\n",
              "    </tr>\n",
              "    <tr>\n",
              "      <th>75%</th>\n",
              "      <td>37.75000</td>\n",
              "      <td>137.500000</td>\n",
              "      <td>74.750000</td>\n",
              "      <td>79.75000</td>\n",
              "      <td>-4.000000</td>\n",
              "      <td>15.750000</td>\n",
              "      <td>69.500000</td>\n",
              "      <td>217.640000</td>\n",
              "      <td>33.750000</td>\n",
              "      <td>15.000000</td>\n",
              "      <td>90.750000</td>\n",
              "    </tr>\n",
              "    <tr>\n",
              "      <th>max</th>\n",
              "      <td>50.00000</td>\n",
              "      <td>190.000000</td>\n",
              "      <td>88.000000</td>\n",
              "      <td>90.00000</td>\n",
              "      <td>-2.000000</td>\n",
              "      <td>58.000000</td>\n",
              "      <td>95.000000</td>\n",
              "      <td>309.340000</td>\n",
              "      <td>75.000000</td>\n",
              "      <td>46.000000</td>\n",
              "      <td>95.000000</td>\n",
              "    </tr>\n",
              "  </tbody>\n",
              "</table>\n",
              "</div>"
            ],
            "text/plain": [
              "       Unnamed: 0  Beats.Per.Minute  ...  Speechiness.  Popularity\n",
              "count    50.00000         50.000000  ...     50.000000   50.000000\n",
              "mean     25.50000        120.060000  ...     12.480000   87.500000\n",
              "std      14.57738         30.898392  ...     11.161596    4.491489\n",
              "min       1.00000         85.000000  ...      3.000000   70.000000\n",
              "25%      13.25000         96.000000  ...      5.000000   86.000000\n",
              "50%      25.50000        104.500000  ...      7.000000   88.000000\n",
              "75%      37.75000        137.500000  ...     15.000000   90.750000\n",
              "max      50.00000        190.000000  ...     46.000000   95.000000\n",
              "\n",
              "[8 rows x 11 columns]"
            ]
          },
          "metadata": {},
          "execution_count": 22
        }
      ]
    },
    {
      "cell_type": "markdown",
      "metadata": {
        "id": "UWG5S3nIL-KK"
      },
      "source": [
        "#**DROPPING UNWANTED COLUMNS**"
      ]
    },
    {
      "cell_type": "code",
      "metadata": {
        "id": "25Vh-YNFMGZF"
      },
      "source": [
        "df.drop(df.columns[0] ,axis=1,inplace=True)"
      ],
      "execution_count": null,
      "outputs": []
    },
    {
      "cell_type": "markdown",
      "metadata": {
        "id": "IhB40ITIMNft"
      },
      "source": [
        "#**HANDLING THE ERRORS IN THE COLUMN DATA TYPE**"
      ]
    },
    {
      "cell_type": "code",
      "metadata": {
        "id": "kGFcWj4uMVd5"
      },
      "source": [
        "df[['Energy','Liveness','Valence.','Length.','Popularity']]=df[['Energy','Liveness','Valence.','Length.','Popularity']].astype(float)"
      ],
      "execution_count": null,
      "outputs": []
    },
    {
      "cell_type": "code",
      "metadata": {
        "colab": {
          "base_uri": "https://localhost:8080/"
        },
        "id": "P6V0EQDGMeSC",
        "outputId": "fdfd8d70-faca-4bc0-aedc-954718094048"
      },
      "source": [
        "df.info()"
      ],
      "execution_count": null,
      "outputs": [
        {
          "output_type": "stream",
          "name": "stdout",
          "text": [
            "<class 'pandas.core.frame.DataFrame'>\n",
            "RangeIndex: 50 entries, 0 to 49\n",
            "Data columns (total 13 columns):\n",
            " #   Column            Non-Null Count  Dtype  \n",
            "---  ------            --------------  -----  \n",
            " 0   Track.Name        50 non-null     object \n",
            " 1   Artist.Name       50 non-null     object \n",
            " 2   Genre             50 non-null     object \n",
            " 3   Beats.Per.Minute  50 non-null     int64  \n",
            " 4   Energy            50 non-null     float64\n",
            " 5   Danceability      50 non-null     int64  \n",
            " 6   Loudness..dB..    50 non-null     int64  \n",
            " 7   Liveness          50 non-null     float64\n",
            " 8   Valence.          50 non-null     float64\n",
            " 9   Length.           50 non-null     float64\n",
            " 10  Acousticness..    50 non-null     int64  \n",
            " 11  Speechiness.      50 non-null     int64  \n",
            " 12  Popularity        50 non-null     float64\n",
            "dtypes: float64(5), int64(5), object(3)\n",
            "memory usage: 5.2+ KB\n"
          ]
        }
      ]
    },
    {
      "cell_type": "markdown",
      "metadata": {
        "id": "VxMBx-jPMg8-"
      },
      "source": [
        "#**SEPARATING NUMERICAL AND CATEGORICAL VALUES**"
      ]
    },
    {
      "cell_type": "code",
      "metadata": {
        "id": "zu4M2a4yMlCr"
      },
      "source": [
        "df_num = df[['Beats.Per.Minute', 'Energy', 'Danceability', 'Loudness..dB..', 'Liveness', 'Valence.', 'Length.', 'Acousticness..', 'Speechiness.', 'Popularity']]\n",
        "df_cat = df[['Track.Name', 'Artist.Name', 'Genre']]"
      ],
      "execution_count": null,
      "outputs": []
    },
    {
      "cell_type": "code",
      "metadata": {
        "colab": {
          "base_uri": "https://localhost:8080/",
          "height": 1000
        },
        "id": "8q-kwn4_Mm-5",
        "outputId": "1cbb875d-f1a4-4b6b-aa10-2b6014286d74"
      },
      "source": [
        "df_num"
      ],
      "execution_count": null,
      "outputs": [
        {
          "output_type": "execute_result",
          "data": {
            "text/html": [
              "<div>\n",
              "<style scoped>\n",
              "    .dataframe tbody tr th:only-of-type {\n",
              "        vertical-align: middle;\n",
              "    }\n",
              "\n",
              "    .dataframe tbody tr th {\n",
              "        vertical-align: top;\n",
              "    }\n",
              "\n",
              "    .dataframe thead th {\n",
              "        text-align: right;\n",
              "    }\n",
              "</style>\n",
              "<table border=\"1\" class=\"dataframe\">\n",
              "  <thead>\n",
              "    <tr style=\"text-align: right;\">\n",
              "      <th></th>\n",
              "      <th>Beats.Per.Minute</th>\n",
              "      <th>Energy</th>\n",
              "      <th>Danceability</th>\n",
              "      <th>Loudness..dB..</th>\n",
              "      <th>Liveness</th>\n",
              "      <th>Valence.</th>\n",
              "      <th>Length.</th>\n",
              "      <th>Acousticness..</th>\n",
              "      <th>Speechiness.</th>\n",
              "      <th>Popularity</th>\n",
              "    </tr>\n",
              "  </thead>\n",
              "  <tbody>\n",
              "    <tr>\n",
              "      <th>0</th>\n",
              "      <td>117</td>\n",
              "      <td>55.0</td>\n",
              "      <td>76</td>\n",
              "      <td>-6</td>\n",
              "      <td>8.0</td>\n",
              "      <td>75.0</td>\n",
              "      <td>191.900</td>\n",
              "      <td>4</td>\n",
              "      <td>3</td>\n",
              "      <td>79.0</td>\n",
              "    </tr>\n",
              "    <tr>\n",
              "      <th>1</th>\n",
              "      <td>105</td>\n",
              "      <td>81.0</td>\n",
              "      <td>79</td>\n",
              "      <td>-4</td>\n",
              "      <td>8.0</td>\n",
              "      <td>61.0</td>\n",
              "      <td>302.120</td>\n",
              "      <td>8</td>\n",
              "      <td>9</td>\n",
              "      <td>92.0</td>\n",
              "    </tr>\n",
              "    <tr>\n",
              "      <th>2</th>\n",
              "      <td>190</td>\n",
              "      <td>80.0</td>\n",
              "      <td>40</td>\n",
              "      <td>-4</td>\n",
              "      <td>16.0</td>\n",
              "      <td>70.0</td>\n",
              "      <td>186.000</td>\n",
              "      <td>12</td>\n",
              "      <td>46</td>\n",
              "      <td>85.0</td>\n",
              "    </tr>\n",
              "    <tr>\n",
              "      <th>3</th>\n",
              "      <td>93</td>\n",
              "      <td>65.0</td>\n",
              "      <td>64</td>\n",
              "      <td>-8</td>\n",
              "      <td>8.0</td>\n",
              "      <td>55.0</td>\n",
              "      <td>198.120</td>\n",
              "      <td>12</td>\n",
              "      <td>19</td>\n",
              "      <td>86.0</td>\n",
              "    </tr>\n",
              "    <tr>\n",
              "      <th>4</th>\n",
              "      <td>150</td>\n",
              "      <td>65.0</td>\n",
              "      <td>58</td>\n",
              "      <td>-4</td>\n",
              "      <td>11.0</td>\n",
              "      <td>18.0</td>\n",
              "      <td>175.180</td>\n",
              "      <td>45</td>\n",
              "      <td>7</td>\n",
              "      <td>94.0</td>\n",
              "    </tr>\n",
              "    <tr>\n",
              "      <th>5</th>\n",
              "      <td>102</td>\n",
              "      <td>68.0</td>\n",
              "      <td>80</td>\n",
              "      <td>-5</td>\n",
              "      <td>9.0</td>\n",
              "      <td>84.0</td>\n",
              "      <td>220.460</td>\n",
              "      <td>9</td>\n",
              "      <td>4</td>\n",
              "      <td>84.0</td>\n",
              "    </tr>\n",
              "    <tr>\n",
              "      <th>6</th>\n",
              "      <td>180</td>\n",
              "      <td>64.0</td>\n",
              "      <td>75</td>\n",
              "      <td>-6</td>\n",
              "      <td>7.0</td>\n",
              "      <td>23.0</td>\n",
              "      <td>131.840</td>\n",
              "      <td>2</td>\n",
              "      <td>29</td>\n",
              "      <td>92.0</td>\n",
              "    </tr>\n",
              "    <tr>\n",
              "      <th>7</th>\n",
              "      <td>111</td>\n",
              "      <td>68.0</td>\n",
              "      <td>48</td>\n",
              "      <td>-5</td>\n",
              "      <td>8.0</td>\n",
              "      <td>35.0</td>\n",
              "      <td>202.000</td>\n",
              "      <td>15</td>\n",
              "      <td>9</td>\n",
              "      <td>90.0</td>\n",
              "    </tr>\n",
              "    <tr>\n",
              "      <th>8</th>\n",
              "      <td>136</td>\n",
              "      <td>62.0</td>\n",
              "      <td>88</td>\n",
              "      <td>-6</td>\n",
              "      <td>11.0</td>\n",
              "      <td>64.0</td>\n",
              "      <td>157.710</td>\n",
              "      <td>5</td>\n",
              "      <td>10</td>\n",
              "      <td>87.0</td>\n",
              "    </tr>\n",
              "    <tr>\n",
              "      <th>9</th>\n",
              "      <td>135</td>\n",
              "      <td>43.0</td>\n",
              "      <td>70</td>\n",
              "      <td>-11</td>\n",
              "      <td>10.0</td>\n",
              "      <td>56.0</td>\n",
              "      <td>194.950</td>\n",
              "      <td>33</td>\n",
              "      <td>38</td>\n",
              "      <td>95.0</td>\n",
              "    </tr>\n",
              "    <tr>\n",
              "      <th>10</th>\n",
              "      <td>176</td>\n",
              "      <td>62.0</td>\n",
              "      <td>61</td>\n",
              "      <td>-5</td>\n",
              "      <td>24.0</td>\n",
              "      <td>24.0</td>\n",
              "      <td>251.000</td>\n",
              "      <td>60</td>\n",
              "      <td>31</td>\n",
              "      <td>93.0</td>\n",
              "    </tr>\n",
              "    <tr>\n",
              "      <th>11</th>\n",
              "      <td>96</td>\n",
              "      <td>71.0</td>\n",
              "      <td>82</td>\n",
              "      <td>-4</td>\n",
              "      <td>15.0</td>\n",
              "      <td>38.0</td>\n",
              "      <td>185.340</td>\n",
              "      <td>28</td>\n",
              "      <td>7</td>\n",
              "      <td>86.0</td>\n",
              "    </tr>\n",
              "    <tr>\n",
              "      <th>12</th>\n",
              "      <td>110</td>\n",
              "      <td>41.0</td>\n",
              "      <td>50</td>\n",
              "      <td>-6</td>\n",
              "      <td>11.0</td>\n",
              "      <td>45.0</td>\n",
              "      <td>182.000</td>\n",
              "      <td>75</td>\n",
              "      <td>3</td>\n",
              "      <td>88.0</td>\n",
              "    </tr>\n",
              "    <tr>\n",
              "      <th>13</th>\n",
              "      <td>176</td>\n",
              "      <td>79.0</td>\n",
              "      <td>73</td>\n",
              "      <td>-2</td>\n",
              "      <td>6.0</td>\n",
              "      <td>76.0</td>\n",
              "      <td>288.213</td>\n",
              "      <td>7</td>\n",
              "      <td>20</td>\n",
              "      <td>87.0</td>\n",
              "    </tr>\n",
              "    <tr>\n",
              "      <th>14</th>\n",
              "      <td>101</td>\n",
              "      <td>50.0</td>\n",
              "      <td>83</td>\n",
              "      <td>-4</td>\n",
              "      <td>12.0</td>\n",
              "      <td>10.0</td>\n",
              "      <td>205.000</td>\n",
              "      <td>10</td>\n",
              "      <td>5</td>\n",
              "      <td>92.0</td>\n",
              "    </tr>\n",
              "    <tr>\n",
              "      <th>15</th>\n",
              "      <td>93</td>\n",
              "      <td>45.0</td>\n",
              "      <td>70</td>\n",
              "      <td>-7</td>\n",
              "      <td>16.0</td>\n",
              "      <td>14.0</td>\n",
              "      <td>261.000</td>\n",
              "      <td>12</td>\n",
              "      <td>15</td>\n",
              "      <td>82.0</td>\n",
              "    </tr>\n",
              "    <tr>\n",
              "      <th>16</th>\n",
              "      <td>176</td>\n",
              "      <td>65.0</td>\n",
              "      <td>75</td>\n",
              "      <td>-6</td>\n",
              "      <td>11.0</td>\n",
              "      <td>43.0</td>\n",
              "      <td>243.000</td>\n",
              "      <td>15</td>\n",
              "      <td>32</td>\n",
              "      <td>90.0</td>\n",
              "    </tr>\n",
              "    <tr>\n",
              "      <th>17</th>\n",
              "      <td>90</td>\n",
              "      <td>48.0</td>\n",
              "      <td>76</td>\n",
              "      <td>-6</td>\n",
              "      <td>7.0</td>\n",
              "      <td>91.0</td>\n",
              "      <td>158.000</td>\n",
              "      <td>56</td>\n",
              "      <td>5</td>\n",
              "      <td>91.0</td>\n",
              "    </tr>\n",
              "    <tr>\n",
              "      <th>18</th>\n",
              "      <td>130</td>\n",
              "      <td>39.0</td>\n",
              "      <td>84</td>\n",
              "      <td>-8</td>\n",
              "      <td>14.0</td>\n",
              "      <td>50.0</td>\n",
              "      <td>161.260</td>\n",
              "      <td>18</td>\n",
              "      <td>8</td>\n",
              "      <td>88.0</td>\n",
              "    </tr>\n",
              "    <tr>\n",
              "      <th>19</th>\n",
              "      <td>158</td>\n",
              "      <td>62.0</td>\n",
              "      <td>72</td>\n",
              "      <td>-3</td>\n",
              "      <td>12.0</td>\n",
              "      <td>41.0</td>\n",
              "      <td>173.000</td>\n",
              "      <td>11</td>\n",
              "      <td>11</td>\n",
              "      <td>91.0</td>\n",
              "    </tr>\n",
              "    <tr>\n",
              "      <th>20</th>\n",
              "      <td>124</td>\n",
              "      <td>74.0</td>\n",
              "      <td>68</td>\n",
              "      <td>-7</td>\n",
              "      <td>7.0</td>\n",
              "      <td>63.0</td>\n",
              "      <td>153.000</td>\n",
              "      <td>4</td>\n",
              "      <td>3</td>\n",
              "      <td>91.0</td>\n",
              "    </tr>\n",
              "    <tr>\n",
              "      <th>21</th>\n",
              "      <td>154</td>\n",
              "      <td>59.0</td>\n",
              "      <td>70</td>\n",
              "      <td>-6</td>\n",
              "      <td>12.0</td>\n",
              "      <td>48.0</td>\n",
              "      <td>115.000</td>\n",
              "      <td>34</td>\n",
              "      <td>8</td>\n",
              "      <td>91.0</td>\n",
              "    </tr>\n",
              "    <tr>\n",
              "      <th>22</th>\n",
              "      <td>92</td>\n",
              "      <td>79.0</td>\n",
              "      <td>81</td>\n",
              "      <td>-4</td>\n",
              "      <td>9.0</td>\n",
              "      <td>58.0</td>\n",
              "      <td>309.340</td>\n",
              "      <td>14</td>\n",
              "      <td>7</td>\n",
              "      <td>83.0</td>\n",
              "    </tr>\n",
              "    <tr>\n",
              "      <th>23</th>\n",
              "      <td>92</td>\n",
              "      <td>78.0</td>\n",
              "      <td>80</td>\n",
              "      <td>-4</td>\n",
              "      <td>44.0</td>\n",
              "      <td>80.0</td>\n",
              "      <td>266.230</td>\n",
              "      <td>36</td>\n",
              "      <td>4</td>\n",
              "      <td>91.0</td>\n",
              "    </tr>\n",
              "    <tr>\n",
              "      <th>24</th>\n",
              "      <td>135</td>\n",
              "      <td>45.0</td>\n",
              "      <td>67</td>\n",
              "      <td>-11</td>\n",
              "      <td>12.0</td>\n",
              "      <td>68.0</td>\n",
              "      <td>195.000</td>\n",
              "      <td>25</td>\n",
              "      <td>30</td>\n",
              "      <td>89.0</td>\n",
              "    </tr>\n",
              "    <tr>\n",
              "      <th>25</th>\n",
              "      <td>124</td>\n",
              "      <td>82.0</td>\n",
              "      <td>69</td>\n",
              "      <td>-4</td>\n",
              "      <td>13.0</td>\n",
              "      <td>87.0</td>\n",
              "      <td>191.000</td>\n",
              "      <td>49</td>\n",
              "      <td>6</td>\n",
              "      <td>70.0</td>\n",
              "    </tr>\n",
              "    <tr>\n",
              "      <th>26</th>\n",
              "      <td>98</td>\n",
              "      <td>59.0</td>\n",
              "      <td>82</td>\n",
              "      <td>-6</td>\n",
              "      <td>18.0</td>\n",
              "      <td>54.0</td>\n",
              "      <td>210.449</td>\n",
              "      <td>69</td>\n",
              "      <td>10</td>\n",
              "      <td>83.0</td>\n",
              "    </tr>\n",
              "    <tr>\n",
              "      <th>27</th>\n",
              "      <td>96</td>\n",
              "      <td>46.0</td>\n",
              "      <td>73</td>\n",
              "      <td>-7</td>\n",
              "      <td>19.0</td>\n",
              "      <td>40.0</td>\n",
              "      <td>213.000</td>\n",
              "      <td>37</td>\n",
              "      <td>3</td>\n",
              "      <td>89.0</td>\n",
              "    </tr>\n",
              "    <tr>\n",
              "      <th>28</th>\n",
              "      <td>94</td>\n",
              "      <td>86.0</td>\n",
              "      <td>74</td>\n",
              "      <td>-3</td>\n",
              "      <td>6.0</td>\n",
              "      <td>66.0</td>\n",
              "      <td>193.120</td>\n",
              "      <td>11</td>\n",
              "      <td>6</td>\n",
              "      <td>91.0</td>\n",
              "    </tr>\n",
              "    <tr>\n",
              "      <th>29</th>\n",
              "      <td>93</td>\n",
              "      <td>79.0</td>\n",
              "      <td>64</td>\n",
              "      <td>-4</td>\n",
              "      <td>36.0</td>\n",
              "      <td>94.0</td>\n",
              "      <td>222.000</td>\n",
              "      <td>3</td>\n",
              "      <td>25</td>\n",
              "      <td>89.0</td>\n",
              "    </tr>\n",
              "    <tr>\n",
              "      <th>30</th>\n",
              "      <td>85</td>\n",
              "      <td>51.0</td>\n",
              "      <td>29</td>\n",
              "      <td>-8</td>\n",
              "      <td>10.0</td>\n",
              "      <td>36.0</td>\n",
              "      <td>210.000</td>\n",
              "      <td>12</td>\n",
              "      <td>4</td>\n",
              "      <td>84.0</td>\n",
              "    </tr>\n",
              "    <tr>\n",
              "      <th>31</th>\n",
              "      <td>140</td>\n",
              "      <td>32.0</td>\n",
              "      <td>78</td>\n",
              "      <td>-11</td>\n",
              "      <td>9.0</td>\n",
              "      <td>33.0</td>\n",
              "      <td>179.000</td>\n",
              "      <td>59</td>\n",
              "      <td>33</td>\n",
              "      <td>89.0</td>\n",
              "    </tr>\n",
              "    <tr>\n",
              "      <th>32</th>\n",
              "      <td>96</td>\n",
              "      <td>71.0</td>\n",
              "      <td>78</td>\n",
              "      <td>-5</td>\n",
              "      <td>9.0</td>\n",
              "      <td>68.0</td>\n",
              "      <td>176.000</td>\n",
              "      <td>22</td>\n",
              "      <td>28</td>\n",
              "      <td>89.0</td>\n",
              "    </tr>\n",
              "    <tr>\n",
              "      <th>33</th>\n",
              "      <td>98</td>\n",
              "      <td>59.0</td>\n",
              "      <td>80</td>\n",
              "      <td>-7</td>\n",
              "      <td>13.0</td>\n",
              "      <td>18.0</td>\n",
              "      <td>200.000</td>\n",
              "      <td>2</td>\n",
              "      <td>15</td>\n",
              "      <td>89.0</td>\n",
              "    </tr>\n",
              "    <tr>\n",
              "      <th>34</th>\n",
              "      <td>100</td>\n",
              "      <td>88.0</td>\n",
              "      <td>77</td>\n",
              "      <td>-5</td>\n",
              "      <td>32.0</td>\n",
              "      <td>39.0</td>\n",
              "      <td>222.240</td>\n",
              "      <td>19</td>\n",
              "      <td>6</td>\n",
              "      <td>89.0</td>\n",
              "    </tr>\n",
              "    <tr>\n",
              "      <th>35</th>\n",
              "      <td>114</td>\n",
              "      <td>72.0</td>\n",
              "      <td>66</td>\n",
              "      <td>-7</td>\n",
              "      <td>14.0</td>\n",
              "      <td>32.0</td>\n",
              "      <td>164.000</td>\n",
              "      <td>18</td>\n",
              "      <td>6</td>\n",
              "      <td>89.0</td>\n",
              "    </tr>\n",
              "    <tr>\n",
              "      <th>36</th>\n",
              "      <td>176</td>\n",
              "      <td>70.0</td>\n",
              "      <td>75</td>\n",
              "      <td>-5</td>\n",
              "      <td>11.0</td>\n",
              "      <td>62.0</td>\n",
              "      <td>226.120</td>\n",
              "      <td>14</td>\n",
              "      <td>34</td>\n",
              "      <td>91.0</td>\n",
              "    </tr>\n",
              "    <tr>\n",
              "      <th>37</th>\n",
              "      <td>152</td>\n",
              "      <td>82.0</td>\n",
              "      <td>72</td>\n",
              "      <td>-5</td>\n",
              "      <td>36.0</td>\n",
              "      <td>91.0</td>\n",
              "      <td>162.000</td>\n",
              "      <td>13</td>\n",
              "      <td>5</td>\n",
              "      <td>87.0</td>\n",
              "    </tr>\n",
              "    <tr>\n",
              "      <th>38</th>\n",
              "      <td>138</td>\n",
              "      <td>73.0</td>\n",
              "      <td>84</td>\n",
              "      <td>-5</td>\n",
              "      <td>11.0</td>\n",
              "      <td>95.0</td>\n",
              "      <td>181.000</td>\n",
              "      <td>4</td>\n",
              "      <td>6</td>\n",
              "      <td>80.0</td>\n",
              "    </tr>\n",
              "    <tr>\n",
              "      <th>39</th>\n",
              "      <td>95</td>\n",
              "      <td>56.0</td>\n",
              "      <td>81</td>\n",
              "      <td>-6</td>\n",
              "      <td>6.0</td>\n",
              "      <td>68.0</td>\n",
              "      <td>199.230</td>\n",
              "      <td>48</td>\n",
              "      <td>7</td>\n",
              "      <td>78.0</td>\n",
              "    </tr>\n",
              "    <tr>\n",
              "      <th>40</th>\n",
              "      <td>104</td>\n",
              "      <td>68.0</td>\n",
              "      <td>69</td>\n",
              "      <td>-7</td>\n",
              "      <td>10.0</td>\n",
              "      <td>40.0</td>\n",
              "      <td>228.000</td>\n",
              "      <td>2</td>\n",
              "      <td>3</td>\n",
              "      <td>88.0</td>\n",
              "    </tr>\n",
              "    <tr>\n",
              "      <th>41</th>\n",
              "      <td>85</td>\n",
              "      <td>68.0</td>\n",
              "      <td>77</td>\n",
              "      <td>-6</td>\n",
              "      <td>7.0</td>\n",
              "      <td>73.0</td>\n",
              "      <td>171.670</td>\n",
              "      <td>1</td>\n",
              "      <td>5</td>\n",
              "      <td>90.0</td>\n",
              "    </tr>\n",
              "    <tr>\n",
              "      <th>42</th>\n",
              "      <td>96</td>\n",
              "      <td>39.0</td>\n",
              "      <td>57</td>\n",
              "      <td>-6</td>\n",
              "      <td>23.0</td>\n",
              "      <td>32.0</td>\n",
              "      <td>216.560</td>\n",
              "      <td>37</td>\n",
              "      <td>3</td>\n",
              "      <td>87.0</td>\n",
              "    </tr>\n",
              "    <tr>\n",
              "      <th>43</th>\n",
              "      <td>136</td>\n",
              "      <td>40.0</td>\n",
              "      <td>90</td>\n",
              "      <td>-9</td>\n",
              "      <td>6.0</td>\n",
              "      <td>35.0</td>\n",
              "      <td>198.000</td>\n",
              "      <td>5</td>\n",
              "      <td>13</td>\n",
              "      <td>84.0</td>\n",
              "    </tr>\n",
              "    <tr>\n",
              "      <th>44</th>\n",
              "      <td>98</td>\n",
              "      <td>69.0</td>\n",
              "      <td>88</td>\n",
              "      <td>-4</td>\n",
              "      <td>5.0</td>\n",
              "      <td>75.0</td>\n",
              "      <td>162.000</td>\n",
              "      <td>39</td>\n",
              "      <td>12</td>\n",
              "      <td>88.0</td>\n",
              "    </tr>\n",
              "    <tr>\n",
              "      <th>45</th>\n",
              "      <td>88</td>\n",
              "      <td>62.0</td>\n",
              "      <td>66</td>\n",
              "      <td>-2</td>\n",
              "      <td>58.0</td>\n",
              "      <td>44.0</td>\n",
              "      <td>182.900</td>\n",
              "      <td>7</td>\n",
              "      <td>5</td>\n",
              "      <td>88.0</td>\n",
              "    </tr>\n",
              "    <tr>\n",
              "      <th>46</th>\n",
              "      <td>176</td>\n",
              "      <td>75.0</td>\n",
              "      <td>67</td>\n",
              "      <td>-4</td>\n",
              "      <td>8.0</td>\n",
              "      <td>80.0</td>\n",
              "      <td>202.300</td>\n",
              "      <td>24</td>\n",
              "      <td>6</td>\n",
              "      <td>88.0</td>\n",
              "    </tr>\n",
              "    <tr>\n",
              "      <th>47</th>\n",
              "      <td>100</td>\n",
              "      <td>79.0</td>\n",
              "      <td>69</td>\n",
              "      <td>-3</td>\n",
              "      <td>17.0</td>\n",
              "      <td>67.0</td>\n",
              "      <td>214.670</td>\n",
              "      <td>19</td>\n",
              "      <td>5</td>\n",
              "      <td>88.0</td>\n",
              "    </tr>\n",
              "    <tr>\n",
              "      <th>48</th>\n",
              "      <td>104</td>\n",
              "      <td>70.0</td>\n",
              "      <td>59</td>\n",
              "      <td>-6</td>\n",
              "      <td>41.0</td>\n",
              "      <td>50.0</td>\n",
              "      <td>218.000</td>\n",
              "      <td>23</td>\n",
              "      <td>3</td>\n",
              "      <td>88.0</td>\n",
              "    </tr>\n",
              "    <tr>\n",
              "      <th>49</th>\n",
              "      <td>95</td>\n",
              "      <td>79.0</td>\n",
              "      <td>75</td>\n",
              "      <td>-6</td>\n",
              "      <td>7.0</td>\n",
              "      <td>61.0</td>\n",
              "      <td>206.680</td>\n",
              "      <td>21</td>\n",
              "      <td>12</td>\n",
              "      <td>82.0</td>\n",
              "    </tr>\n",
              "  </tbody>\n",
              "</table>\n",
              "</div>"
            ],
            "text/plain": [
              "    Beats.Per.Minute  Energy  ...  Speechiness.  Popularity\n",
              "0                117    55.0  ...             3        79.0\n",
              "1                105    81.0  ...             9        92.0\n",
              "2                190    80.0  ...            46        85.0\n",
              "3                 93    65.0  ...            19        86.0\n",
              "4                150    65.0  ...             7        94.0\n",
              "5                102    68.0  ...             4        84.0\n",
              "6                180    64.0  ...            29        92.0\n",
              "7                111    68.0  ...             9        90.0\n",
              "8                136    62.0  ...            10        87.0\n",
              "9                135    43.0  ...            38        95.0\n",
              "10               176    62.0  ...            31        93.0\n",
              "11                96    71.0  ...             7        86.0\n",
              "12               110    41.0  ...             3        88.0\n",
              "13               176    79.0  ...            20        87.0\n",
              "14               101    50.0  ...             5        92.0\n",
              "15                93    45.0  ...            15        82.0\n",
              "16               176    65.0  ...            32        90.0\n",
              "17                90    48.0  ...             5        91.0\n",
              "18               130    39.0  ...             8        88.0\n",
              "19               158    62.0  ...            11        91.0\n",
              "20               124    74.0  ...             3        91.0\n",
              "21               154    59.0  ...             8        91.0\n",
              "22                92    79.0  ...             7        83.0\n",
              "23                92    78.0  ...             4        91.0\n",
              "24               135    45.0  ...            30        89.0\n",
              "25               124    82.0  ...             6        70.0\n",
              "26                98    59.0  ...            10        83.0\n",
              "27                96    46.0  ...             3        89.0\n",
              "28                94    86.0  ...             6        91.0\n",
              "29                93    79.0  ...            25        89.0\n",
              "30                85    51.0  ...             4        84.0\n",
              "31               140    32.0  ...            33        89.0\n",
              "32                96    71.0  ...            28        89.0\n",
              "33                98    59.0  ...            15        89.0\n",
              "34               100    88.0  ...             6        89.0\n",
              "35               114    72.0  ...             6        89.0\n",
              "36               176    70.0  ...            34        91.0\n",
              "37               152    82.0  ...             5        87.0\n",
              "38               138    73.0  ...             6        80.0\n",
              "39                95    56.0  ...             7        78.0\n",
              "40               104    68.0  ...             3        88.0\n",
              "41                85    68.0  ...             5        90.0\n",
              "42                96    39.0  ...             3        87.0\n",
              "43               136    40.0  ...            13        84.0\n",
              "44                98    69.0  ...            12        88.0\n",
              "45                88    62.0  ...             5        88.0\n",
              "46               176    75.0  ...             6        88.0\n",
              "47               100    79.0  ...             5        88.0\n",
              "48               104    70.0  ...             3        88.0\n",
              "49                95    79.0  ...            12        82.0\n",
              "\n",
              "[50 rows x 10 columns]"
            ]
          },
          "metadata": {},
          "execution_count": 27
        }
      ]
    },
    {
      "cell_type": "code",
      "metadata": {
        "colab": {
          "base_uri": "https://localhost:8080/",
          "height": 1000
        },
        "id": "yo0SxoKkMr0g",
        "outputId": "b6e146c2-c5bc-48dd-faf0-acbf491c404e"
      },
      "source": [
        "df_cat"
      ],
      "execution_count": null,
      "outputs": [
        {
          "output_type": "execute_result",
          "data": {
            "text/html": [
              "<div>\n",
              "<style scoped>\n",
              "    .dataframe tbody tr th:only-of-type {\n",
              "        vertical-align: middle;\n",
              "    }\n",
              "\n",
              "    .dataframe tbody tr th {\n",
              "        vertical-align: top;\n",
              "    }\n",
              "\n",
              "    .dataframe thead th {\n",
              "        text-align: right;\n",
              "    }\n",
              "</style>\n",
              "<table border=\"1\" class=\"dataframe\">\n",
              "  <thead>\n",
              "    <tr style=\"text-align: right;\">\n",
              "      <th></th>\n",
              "      <th>Track.Name</th>\n",
              "      <th>Artist.Name</th>\n",
              "      <th>Genre</th>\n",
              "    </tr>\n",
              "  </thead>\n",
              "  <tbody>\n",
              "    <tr>\n",
              "      <th>0</th>\n",
              "      <td>Señorita</td>\n",
              "      <td>Shawn Mendes</td>\n",
              "      <td>canadian pop</td>\n",
              "    </tr>\n",
              "    <tr>\n",
              "      <th>1</th>\n",
              "      <td>China</td>\n",
              "      <td>Anuel AA</td>\n",
              "      <td>reggaeton flow</td>\n",
              "    </tr>\n",
              "    <tr>\n",
              "      <th>2</th>\n",
              "      <td>boyfriend (with Social House)</td>\n",
              "      <td>Ariana Grande</td>\n",
              "      <td>dance pop</td>\n",
              "    </tr>\n",
              "    <tr>\n",
              "      <th>3</th>\n",
              "      <td>Beautiful People (feat. Khalid)</td>\n",
              "      <td>Ed Sheeran</td>\n",
              "      <td>pop</td>\n",
              "    </tr>\n",
              "    <tr>\n",
              "      <th>4</th>\n",
              "      <td>Goodbyes (Feat. Young Thug)</td>\n",
              "      <td>Post Malone</td>\n",
              "      <td>dfw rap</td>\n",
              "    </tr>\n",
              "    <tr>\n",
              "      <th>5</th>\n",
              "      <td>I Don't Care (with Justin Bieber)</td>\n",
              "      <td>Ed Sheeran</td>\n",
              "      <td>pop</td>\n",
              "    </tr>\n",
              "    <tr>\n",
              "      <th>6</th>\n",
              "      <td>Ransom</td>\n",
              "      <td>Lil Tecca</td>\n",
              "      <td>trap music</td>\n",
              "    </tr>\n",
              "    <tr>\n",
              "      <th>7</th>\n",
              "      <td>How Do You Sleep?</td>\n",
              "      <td>Sam Smith</td>\n",
              "      <td>pop</td>\n",
              "    </tr>\n",
              "    <tr>\n",
              "      <th>8</th>\n",
              "      <td>Old Town Road - Remix</td>\n",
              "      <td>Lil Nas X</td>\n",
              "      <td>country rap</td>\n",
              "    </tr>\n",
              "    <tr>\n",
              "      <th>9</th>\n",
              "      <td>bad guy</td>\n",
              "      <td>Billie Eilish</td>\n",
              "      <td>electropop</td>\n",
              "    </tr>\n",
              "    <tr>\n",
              "      <th>10</th>\n",
              "      <td>Callaita</td>\n",
              "      <td>Bad Bunny</td>\n",
              "      <td>reggaeton</td>\n",
              "    </tr>\n",
              "    <tr>\n",
              "      <th>11</th>\n",
              "      <td>Loco Contigo (feat. J. Balvin &amp; Tyga)</td>\n",
              "      <td>DJ Snake</td>\n",
              "      <td>dance pop</td>\n",
              "    </tr>\n",
              "    <tr>\n",
              "      <th>12</th>\n",
              "      <td>Someone You Loved</td>\n",
              "      <td>Lewis Capaldi</td>\n",
              "      <td>pop</td>\n",
              "    </tr>\n",
              "    <tr>\n",
              "      <th>13</th>\n",
              "      <td>Otro Trago - Remix</td>\n",
              "      <td>Sech</td>\n",
              "      <td>panamanian pop</td>\n",
              "    </tr>\n",
              "    <tr>\n",
              "      <th>14</th>\n",
              "      <td>Money In The Grave (Drake ft. Rick Ross)</td>\n",
              "      <td>Drake</td>\n",
              "      <td>canadian hip hop</td>\n",
              "    </tr>\n",
              "    <tr>\n",
              "      <th>15</th>\n",
              "      <td>No Guidance (feat. Drake)</td>\n",
              "      <td>Chris Brown</td>\n",
              "      <td>dance pop</td>\n",
              "    </tr>\n",
              "    <tr>\n",
              "      <th>16</th>\n",
              "      <td>LA CANCIÓN</td>\n",
              "      <td>J Balvin</td>\n",
              "      <td>latin</td>\n",
              "    </tr>\n",
              "    <tr>\n",
              "      <th>17</th>\n",
              "      <td>Sunflower - Spider-Man: Into the Spider-Verse</td>\n",
              "      <td>Post Malone</td>\n",
              "      <td>dfw rap</td>\n",
              "    </tr>\n",
              "    <tr>\n",
              "      <th>18</th>\n",
              "      <td>Lalala</td>\n",
              "      <td>Y2K</td>\n",
              "      <td>canadian hip hop</td>\n",
              "    </tr>\n",
              "    <tr>\n",
              "      <th>19</th>\n",
              "      <td>Truth Hurts</td>\n",
              "      <td>Lizzo</td>\n",
              "      <td>escape room</td>\n",
              "    </tr>\n",
              "    <tr>\n",
              "      <th>20</th>\n",
              "      <td>Piece Of Your Heart</td>\n",
              "      <td>MEDUZA</td>\n",
              "      <td>pop house</td>\n",
              "    </tr>\n",
              "    <tr>\n",
              "      <th>21</th>\n",
              "      <td>Panini</td>\n",
              "      <td>Lil Nas X</td>\n",
              "      <td>country rap</td>\n",
              "    </tr>\n",
              "    <tr>\n",
              "      <th>22</th>\n",
              "      <td>No Me Conoce - Remix</td>\n",
              "      <td>Jhay Cortez</td>\n",
              "      <td>reggaeton flow</td>\n",
              "    </tr>\n",
              "    <tr>\n",
              "      <th>23</th>\n",
              "      <td>Soltera - Remix</td>\n",
              "      <td>Lunay</td>\n",
              "      <td>latin</td>\n",
              "    </tr>\n",
              "    <tr>\n",
              "      <th>24</th>\n",
              "      <td>bad guy (with Justin Bieber)</td>\n",
              "      <td>Billie Eilish</td>\n",
              "      <td>electropop</td>\n",
              "    </tr>\n",
              "    <tr>\n",
              "      <th>25</th>\n",
              "      <td>If I Can't Have You</td>\n",
              "      <td>Shawn Mendes</td>\n",
              "      <td>canadian pop</td>\n",
              "    </tr>\n",
              "    <tr>\n",
              "      <th>26</th>\n",
              "      <td>Dance Monkey</td>\n",
              "      <td>Tones and I</td>\n",
              "      <td>australian pop</td>\n",
              "    </tr>\n",
              "    <tr>\n",
              "      <th>27</th>\n",
              "      <td>It's You</td>\n",
              "      <td>Ali Gatie</td>\n",
              "      <td>canadian hip hop</td>\n",
              "    </tr>\n",
              "    <tr>\n",
              "      <th>28</th>\n",
              "      <td>Con Calma</td>\n",
              "      <td>Daddy Yankee</td>\n",
              "      <td>latin</td>\n",
              "    </tr>\n",
              "    <tr>\n",
              "      <th>29</th>\n",
              "      <td>QUE PRETENDES</td>\n",
              "      <td>J Balvin</td>\n",
              "      <td>latin</td>\n",
              "    </tr>\n",
              "    <tr>\n",
              "      <th>30</th>\n",
              "      <td>Takeaway</td>\n",
              "      <td>The Chainsmokers</td>\n",
              "      <td>edm</td>\n",
              "    </tr>\n",
              "    <tr>\n",
              "      <th>31</th>\n",
              "      <td>7 rings</td>\n",
              "      <td>Ariana Grande</td>\n",
              "      <td>dance pop</td>\n",
              "    </tr>\n",
              "    <tr>\n",
              "      <th>32</th>\n",
              "      <td>0.958333333</td>\n",
              "      <td>Maluma</td>\n",
              "      <td>reggaeton</td>\n",
              "    </tr>\n",
              "    <tr>\n",
              "      <th>33</th>\n",
              "      <td>The London (feat. J. Cole &amp; Travis Scott)</td>\n",
              "      <td>Young Thug</td>\n",
              "      <td>atl hip hop</td>\n",
              "    </tr>\n",
              "    <tr>\n",
              "      <th>34</th>\n",
              "      <td>Never Really Over</td>\n",
              "      <td>Katy Perry</td>\n",
              "      <td>dance pop</td>\n",
              "    </tr>\n",
              "    <tr>\n",
              "      <th>35</th>\n",
              "      <td>Summer Days (feat. Macklemore &amp; Patrick Stump ...</td>\n",
              "      <td>Martin Garrix</td>\n",
              "      <td>big room</td>\n",
              "    </tr>\n",
              "    <tr>\n",
              "      <th>36</th>\n",
              "      <td>Otro Trago</td>\n",
              "      <td>Sech</td>\n",
              "      <td>panamanian pop</td>\n",
              "    </tr>\n",
              "    <tr>\n",
              "      <th>37</th>\n",
              "      <td>Antisocial (with Travis Scott)</td>\n",
              "      <td>Ed Sheeran</td>\n",
              "      <td>pop</td>\n",
              "    </tr>\n",
              "    <tr>\n",
              "      <th>38</th>\n",
              "      <td>Sucker</td>\n",
              "      <td>Jonas Brothers</td>\n",
              "      <td>boy band</td>\n",
              "    </tr>\n",
              "    <tr>\n",
              "      <th>39</th>\n",
              "      <td>fuck, i'm lonely (with Anne-Marie) - from 13 ...</td>\n",
              "      <td>Lauv</td>\n",
              "      <td>dance pop</td>\n",
              "    </tr>\n",
              "    <tr>\n",
              "      <th>40</th>\n",
              "      <td>Higher Love</td>\n",
              "      <td>Kygo</td>\n",
              "      <td>edm</td>\n",
              "    </tr>\n",
              "    <tr>\n",
              "      <th>41</th>\n",
              "      <td>You Need To Calm Down</td>\n",
              "      <td>Taylor Swift</td>\n",
              "      <td>dance pop</td>\n",
              "    </tr>\n",
              "    <tr>\n",
              "      <th>42</th>\n",
              "      <td>Shallow</td>\n",
              "      <td>Lady Gaga</td>\n",
              "      <td>dance pop</td>\n",
              "    </tr>\n",
              "    <tr>\n",
              "      <th>43</th>\n",
              "      <td>Talk</td>\n",
              "      <td>Khalid</td>\n",
              "      <td>pop</td>\n",
              "    </tr>\n",
              "    <tr>\n",
              "      <th>44</th>\n",
              "      <td>Con Altura</td>\n",
              "      <td>ROSALÍA</td>\n",
              "      <td>r&amp;b en espanol</td>\n",
              "    </tr>\n",
              "    <tr>\n",
              "      <th>45</th>\n",
              "      <td>One Thing Right</td>\n",
              "      <td>Marshmello</td>\n",
              "      <td>brostep</td>\n",
              "    </tr>\n",
              "    <tr>\n",
              "      <th>46</th>\n",
              "      <td>Te Robaré</td>\n",
              "      <td>Nicky Jam</td>\n",
              "      <td>latin</td>\n",
              "    </tr>\n",
              "    <tr>\n",
              "      <th>47</th>\n",
              "      <td>Happier</td>\n",
              "      <td>Marshmello</td>\n",
              "      <td>brostep</td>\n",
              "    </tr>\n",
              "    <tr>\n",
              "      <th>48</th>\n",
              "      <td>Call You Mine</td>\n",
              "      <td>The Chainsmokers</td>\n",
              "      <td>edm</td>\n",
              "    </tr>\n",
              "    <tr>\n",
              "      <th>49</th>\n",
              "      <td>Cross Me (feat. Chance the Rapper &amp; PnB Rock)</td>\n",
              "      <td>Ed Sheeran</td>\n",
              "      <td>pop</td>\n",
              "    </tr>\n",
              "  </tbody>\n",
              "</table>\n",
              "</div>"
            ],
            "text/plain": [
              "                                           Track.Name  ...             Genre\n",
              "0                                            Señorita  ...      canadian pop\n",
              "1                                               China  ...    reggaeton flow\n",
              "2                       boyfriend (with Social House)  ...         dance pop\n",
              "3                     Beautiful People (feat. Khalid)  ...               pop\n",
              "4                         Goodbyes (Feat. Young Thug)  ...           dfw rap\n",
              "5                   I Don't Care (with Justin Bieber)  ...               pop\n",
              "6                                              Ransom  ...        trap music\n",
              "7                                   How Do You Sleep?  ...               pop\n",
              "8                               Old Town Road - Remix  ...       country rap\n",
              "9                                             bad guy  ...        electropop\n",
              "10                                           Callaita  ...         reggaeton\n",
              "11              Loco Contigo (feat. J. Balvin & Tyga)  ...         dance pop\n",
              "12                                  Someone You Loved  ...               pop\n",
              "13                                 Otro Trago - Remix  ...    panamanian pop\n",
              "14           Money In The Grave (Drake ft. Rick Ross)  ...  canadian hip hop\n",
              "15                          No Guidance (feat. Drake)  ...         dance pop\n",
              "16                                         LA CANCIÓN  ...             latin\n",
              "17      Sunflower - Spider-Man: Into the Spider-Verse  ...           dfw rap\n",
              "18                                             Lalala  ...  canadian hip hop\n",
              "19                                        Truth Hurts  ...       escape room\n",
              "20                                Piece Of Your Heart  ...         pop house\n",
              "21                                             Panini  ...       country rap\n",
              "22                               No Me Conoce - Remix  ...    reggaeton flow\n",
              "23                                    Soltera - Remix  ...             latin\n",
              "24                       bad guy (with Justin Bieber)  ...        electropop\n",
              "25                                If I Can't Have You  ...      canadian pop\n",
              "26                                       Dance Monkey  ...    australian pop\n",
              "27                                           It's You  ...  canadian hip hop\n",
              "28                                          Con Calma  ...             latin\n",
              "29                                      QUE PRETENDES  ...             latin\n",
              "30                                           Takeaway  ...               edm\n",
              "31                                            7 rings  ...         dance pop\n",
              "32                                        0.958333333  ...         reggaeton\n",
              "33          The London (feat. J. Cole & Travis Scott)  ...       atl hip hop\n",
              "34                                  Never Really Over  ...         dance pop\n",
              "35  Summer Days (feat. Macklemore & Patrick Stump ...  ...          big room\n",
              "36                                         Otro Trago  ...    panamanian pop\n",
              "37                     Antisocial (with Travis Scott)  ...               pop\n",
              "38                                             Sucker  ...          boy band\n",
              "39  fuck, i'm lonely (with Anne-Marie) - from 13 ...  ...         dance pop\n",
              "40                                        Higher Love  ...               edm\n",
              "41                              You Need To Calm Down  ...         dance pop\n",
              "42                                            Shallow  ...         dance pop\n",
              "43                                               Talk  ...               pop\n",
              "44                                         Con Altura  ...    r&b en espanol\n",
              "45                                    One Thing Right  ...           brostep\n",
              "46                                          Te Robaré  ...             latin\n",
              "47                                            Happier  ...           brostep\n",
              "48                                      Call You Mine  ...               edm\n",
              "49      Cross Me (feat. Chance the Rapper & PnB Rock)  ...               pop\n",
              "\n",
              "[50 rows x 3 columns]"
            ]
          },
          "metadata": {},
          "execution_count": 28
        }
      ]
    },
    {
      "cell_type": "markdown",
      "metadata": {
        "id": "kmx1mwTnMuvA"
      },
      "source": [
        "#**Exploratory Data Analysis (EDA)**"
      ]
    },
    {
      "cell_type": "markdown",
      "metadata": {
        "id": "vV-VeLcEM0cb"
      },
      "source": [
        "#**Distributions for all numeric variables**"
      ]
    },
    {
      "cell_type": "code",
      "metadata": {
        "colab": {
          "base_uri": "https://localhost:8080/",
          "height": 1000
        },
        "id": "k5emzHRUMw2L",
        "outputId": "118c9134-0059-4487-d711-de4ec370413d"
      },
      "source": [
        "for i in df_num.columns:\n",
        "    plt.hist(df_num[i])\n",
        "    plt.title(i)\n",
        "    plt.show()"
      ],
      "execution_count": null,
      "outputs": [
        {
          "output_type": "display_data",
          "data": {
            "image/png": "[encoded data removed]",
            "text/plain": [
              "<Figure size 432x288 with 1 Axes>"
            ]
          },
          "metadata": {
            "needs_background": "light"
          }
        },
        {
          "output_type": "display_data",
          "data": {
            "image/png": "[encoded data removed]",
            "text/plain": [
              "<Figure size 432x288 with 1 Axes>"
            ]
          },
          "metadata": {
            "needs_background": "light"
          }
        },
        {
          "output_type": "display_data",
          "data": {
            "image/png": "[encoded data removed]",
            "text/plain": [
              "<Figure size 432x288 with 1 Axes>"
            ]
          },
          "metadata": {
            "needs_background": "light"
          }
        },
        {
          "output_type": "display_data",
          "data": {
            "image/png": "[encoded data removed]",
            "text/plain": [
              "<Figure size 432x288 with 1 Axes>"
            ]
          },
          "metadata": {
            "needs_background": "light"
          }
        },
        {
          "output_type": "display_data",
          "data": {
            "image/png": "[encoded data removed]",
            "text/plain": [
              "<Figure size 432x288 with 1 Axes>"
            ]
          },
          "metadata": {
            "needs_background": "light"
          }
        },
        {
          "output_type": "display_data",
          "data": {
            "image/png": "[encoded data removed]",
            "text/plain": [
              "<Figure size 432x288 with 1 Axes>"
            ]
          },
          "metadata": {
            "needs_background": "light"
          }
        },
        {
          "output_type": "display_data",
          "data": {
            "image/png": "[encoded data removed]",
            "text/plain": [
              "<Figure size 432x288 with 1 Axes>"
            ]
          },
          "metadata": {
            "needs_background": "light"
          }
        },
        {
          "output_type": "display_data",
          "data": {
            "image/png": "[encoded data removed]",
            "text/plain": [
              "<Figure size 432x288 with 1 Axes>"
            ]
          },
          "metadata": {
            "needs_background": "light"
          }
        },
        {
          "output_type": "display_data",
          "data": {
            "image/png": "[encoded data removed]",
            "text/plain": [
              "<Figure size 432x288 with 1 Axes>"
            ]
          },
          "metadata": {
            "needs_background": "light"
          }
        },
        {
          "output_type": "display_data",
          "data": {
            "image/png": "[encoded data removed]",
            "text/plain": [
              "<Figure size 432x288 with 1 Axes>"
            ]
          },
          "metadata": {
            "needs_background": "light"
          }
        }
      ]
    },
    {
      "cell_type": "markdown",
      "metadata": {
        "id": "7fs89B1yM9LN"
      },
      "source": [
        "#**Corelation Table and Heatmap**"
      ]
    },
    {
      "cell_type": "code",
      "metadata": {
        "colab": {
          "base_uri": "https://localhost:8080/",
          "height": 901
        },
        "id": "GEo0fosFNB4O",
        "outputId": "bf249c9f-e970-4550-85b2-6318fec5db77"
      },
      "source": [
        "plt.figure(figsize = (10,8))\n",
        "sns.heatmap(df_num.corr())\n",
        "df_num.corr()"
      ],
      "execution_count": null,
      "outputs": [
        {
          "output_type": "execute_result",
          "data": {
            "text/html": [
              "<div>\n",
              "<style scoped>\n",
              "    .dataframe tbody tr th:only-of-type {\n",
              "        vertical-align: middle;\n",
              "    }\n",
              "\n",
              "    .dataframe tbody tr th {\n",
              "        vertical-align: top;\n",
              "    }\n",
              "\n",
              "    .dataframe thead th {\n",
              "        text-align: right;\n",
              "    }\n",
              "</style>\n",
              "<table border=\"1\" class=\"dataframe\">\n",
              "  <thead>\n",
              "    <tr style=\"text-align: right;\">\n",
              "      <th></th>\n",
              "      <th>Beats.Per.Minute</th>\n",
              "      <th>Energy</th>\n",
              "      <th>Danceability</th>\n",
              "      <th>Loudness..dB..</th>\n",
              "      <th>Liveness</th>\n",
              "      <th>Valence.</th>\n",
              "      <th>Length.</th>\n",
              "      <th>Acousticness..</th>\n",
              "      <th>Speechiness.</th>\n",
              "      <th>Popularity</th>\n",
              "    </tr>\n",
              "  </thead>\n",
              "  <tbody>\n",
              "    <tr>\n",
              "      <th>Beats.Per.Minute</th>\n",
              "      <td>1.000000</td>\n",
              "      <td>0.043756</td>\n",
              "      <td>-0.094183</td>\n",
              "      <td>0.017016</td>\n",
              "      <td>-0.167286</td>\n",
              "      <td>-0.011586</td>\n",
              "      <td>-0.139456</td>\n",
              "      <td>-0.031450</td>\n",
              "      <td>0.557052</td>\n",
              "      <td>0.196097</td>\n",
              "    </tr>\n",
              "    <tr>\n",
              "      <th>Energy</th>\n",
              "      <td>0.043756</td>\n",
              "      <td>1.000000</td>\n",
              "      <td>0.018254</td>\n",
              "      <td>0.670794</td>\n",
              "      <td>0.162768</td>\n",
              "      <td>0.438820</td>\n",
              "      <td>0.223055</td>\n",
              "      <td>-0.339892</td>\n",
              "      <td>-0.089860</td>\n",
              "      <td>-0.080295</td>\n",
              "    </tr>\n",
              "    <tr>\n",
              "      <th>Danceability</th>\n",
              "      <td>-0.094183</td>\n",
              "      <td>0.018254</td>\n",
              "      <td>1.000000</td>\n",
              "      <td>0.016255</td>\n",
              "      <td>-0.149636</td>\n",
              "      <td>0.172829</td>\n",
              "      <td>0.000691</td>\n",
              "      <td>-0.098165</td>\n",
              "      <td>-0.103472</td>\n",
              "      <td>-0.071413</td>\n",
              "    </tr>\n",
              "    <tr>\n",
              "      <th>Loudness..dB..</th>\n",
              "      <td>0.017016</td>\n",
              "      <td>0.670794</td>\n",
              "      <td>0.016255</td>\n",
              "      <td>1.000000</td>\n",
              "      <td>0.258652</td>\n",
              "      <td>0.237614</td>\n",
              "      <td>0.219517</td>\n",
              "      <td>-0.138300</td>\n",
              "      <td>-0.272213</td>\n",
              "      <td>-0.043085</td>\n",
              "    </tr>\n",
              "    <tr>\n",
              "      <th>Liveness</th>\n",
              "      <td>-0.167286</td>\n",
              "      <td>0.162768</td>\n",
              "      <td>-0.149636</td>\n",
              "      <td>0.258652</td>\n",
              "      <td>1.000000</td>\n",
              "      <td>0.016123</td>\n",
              "      <td>0.130943</td>\n",
              "      <td>0.021328</td>\n",
              "      <td>-0.125286</td>\n",
              "      <td>0.092564</td>\n",
              "    </tr>\n",
              "    <tr>\n",
              "      <th>Valence.</th>\n",
              "      <td>-0.011586</td>\n",
              "      <td>0.438820</td>\n",
              "      <td>0.172829</td>\n",
              "      <td>0.237614</td>\n",
              "      <td>0.016123</td>\n",
              "      <td>1.000000</td>\n",
              "      <td>-0.016511</td>\n",
              "      <td>-0.052323</td>\n",
              "      <td>-0.053242</td>\n",
              "      <td>-0.317752</td>\n",
              "    </tr>\n",
              "    <tr>\n",
              "      <th>Length.</th>\n",
              "      <td>-0.139456</td>\n",
              "      <td>0.223055</td>\n",
              "      <td>0.000691</td>\n",
              "      <td>0.219517</td>\n",
              "      <td>0.130943</td>\n",
              "      <td>-0.016511</td>\n",
              "      <td>1.000000</td>\n",
              "      <td>-0.077299</td>\n",
              "      <td>0.047020</td>\n",
              "      <td>-0.088410</td>\n",
              "    </tr>\n",
              "    <tr>\n",
              "      <th>Acousticness..</th>\n",
              "      <td>-0.031450</td>\n",
              "      <td>-0.339892</td>\n",
              "      <td>-0.098165</td>\n",
              "      <td>-0.138300</td>\n",
              "      <td>0.021328</td>\n",
              "      <td>-0.052323</td>\n",
              "      <td>-0.077299</td>\n",
              "      <td>1.000000</td>\n",
              "      <td>0.008293</td>\n",
              "      <td>-0.034684</td>\n",
              "    </tr>\n",
              "    <tr>\n",
              "      <th>Speechiness.</th>\n",
              "      <td>0.557052</td>\n",
              "      <td>-0.089860</td>\n",
              "      <td>-0.103472</td>\n",
              "      <td>-0.272213</td>\n",
              "      <td>-0.125286</td>\n",
              "      <td>-0.053242</td>\n",
              "      <td>0.047020</td>\n",
              "      <td>0.008293</td>\n",
              "      <td>1.000000</td>\n",
              "      <td>0.238553</td>\n",
              "    </tr>\n",
              "    <tr>\n",
              "      <th>Popularity</th>\n",
              "      <td>0.196097</td>\n",
              "      <td>-0.080295</td>\n",
              "      <td>-0.071413</td>\n",
              "      <td>-0.043085</td>\n",
              "      <td>0.092564</td>\n",
              "      <td>-0.317752</td>\n",
              "      <td>-0.088410</td>\n",
              "      <td>-0.034684</td>\n",
              "      <td>0.238553</td>\n",
              "      <td>1.000000</td>\n",
              "    </tr>\n",
              "  </tbody>\n",
              "</table>\n",
              "</div>"
            ],
            "text/plain": [
              "                  Beats.Per.Minute    Energy  ...  Speechiness.  Popularity\n",
              "Beats.Per.Minute          1.000000  0.043756  ...      0.557052    0.196097\n",
              "Energy                    0.043756  1.000000  ...     -0.089860   -0.080295\n",
              "Danceability             -0.094183  0.018254  ...     -0.103472   -0.071413\n",
              "Loudness..dB..            0.017016  0.670794  ...     -0.272213   -0.043085\n",
              "Liveness                 -0.167286  0.162768  ...     -0.125286    0.092564\n",
              "Valence.                 -0.011586  0.438820  ...     -0.053242   -0.317752\n",
              "Length.                  -0.139456  0.223055  ...      0.047020   -0.088410\n",
              "Acousticness..           -0.031450 -0.339892  ...      0.008293   -0.034684\n",
              "Speechiness.              0.557052 -0.089860  ...      1.000000    0.238553\n",
              "Popularity                0.196097 -0.080295  ...      0.238553    1.000000\n",
              "\n",
              "[10 rows x 10 columns]"
            ]
          },
          "metadata": {},
          "execution_count": 30
        },
        {
          "output_type": "display_data",
          "data": {
            "image/png": "[encoded data removed]",
            "text/plain": [
              "<Figure size 720x576 with 2 Axes>"
            ]
          },
          "metadata": {
            "needs_background": "light"
          }
        }
      ]
    },
    {
      "cell_type": "markdown",
      "metadata": {
        "id": "aj2fUWo2NQEV"
      },
      "source": [
        "#**Characteristic features based on genre.**"
      ]
    },
    {
      "cell_type": "code",
      "metadata": {
        "colab": {
          "base_uri": "https://localhost:8080/",
          "height": 726
        },
        "id": "dhfeY2m-Nzvm",
        "outputId": "64701658-fda2-4543-f7a9-48ba35bf9140"
      },
      "source": [
        "pd.pivot_table(df, index = 'Genre', values = ['Beats.Per.Minute', 'Energy', 'Danceability', 'Loudness..dB..', 'Liveness', 'Valence.', 'Length.', 'Acousticness..', 'Speechiness.', 'Popularity'])"
      ],
      "execution_count": null,
      "outputs": [
        {
          "output_type": "execute_result",
          "data": {
            "text/html": [
              "<div>\n",
              "<style scoped>\n",
              "    .dataframe tbody tr th:only-of-type {\n",
              "        vertical-align: middle;\n",
              "    }\n",
              "\n",
              "    .dataframe tbody tr th {\n",
              "        vertical-align: top;\n",
              "    }\n",
              "\n",
              "    .dataframe thead th {\n",
              "        text-align: right;\n",
              "    }\n",
              "</style>\n",
              "<table border=\"1\" class=\"dataframe\">\n",
              "  <thead>\n",
              "    <tr style=\"text-align: right;\">\n",
              "      <th></th>\n",
              "      <th>Acousticness..</th>\n",
              "      <th>Beats.Per.Minute</th>\n",
              "      <th>Danceability</th>\n",
              "      <th>Energy</th>\n",
              "      <th>Length.</th>\n",
              "      <th>Liveness</th>\n",
              "      <th>Loudness..dB..</th>\n",
              "      <th>Popularity</th>\n",
              "      <th>Speechiness.</th>\n",
              "      <th>Valence.</th>\n",
              "    </tr>\n",
              "    <tr>\n",
              "      <th>Genre</th>\n",
              "      <th></th>\n",
              "      <th></th>\n",
              "      <th></th>\n",
              "      <th></th>\n",
              "      <th></th>\n",
              "      <th></th>\n",
              "      <th></th>\n",
              "      <th></th>\n",
              "      <th></th>\n",
              "      <th></th>\n",
              "    </tr>\n",
              "  </thead>\n",
              "  <tbody>\n",
              "    <tr>\n",
              "      <th>atl hip hop</th>\n",
              "      <td>2.000000</td>\n",
              "      <td>98.000000</td>\n",
              "      <td>80.000000</td>\n",
              "      <td>59.000000</td>\n",
              "      <td>200.000000</td>\n",
              "      <td>13.000000</td>\n",
              "      <td>-7.000000</td>\n",
              "      <td>89.000000</td>\n",
              "      <td>15.000000</td>\n",
              "      <td>18.000000</td>\n",
              "    </tr>\n",
              "    <tr>\n",
              "      <th>australian pop</th>\n",
              "      <td>69.000000</td>\n",
              "      <td>98.000000</td>\n",
              "      <td>82.000000</td>\n",
              "      <td>59.000000</td>\n",
              "      <td>210.449000</td>\n",
              "      <td>18.000000</td>\n",
              "      <td>-6.000000</td>\n",
              "      <td>83.000000</td>\n",
              "      <td>10.000000</td>\n",
              "      <td>54.000000</td>\n",
              "    </tr>\n",
              "    <tr>\n",
              "      <th>big room</th>\n",
              "      <td>18.000000</td>\n",
              "      <td>114.000000</td>\n",
              "      <td>66.000000</td>\n",
              "      <td>72.000000</td>\n",
              "      <td>164.000000</td>\n",
              "      <td>14.000000</td>\n",
              "      <td>-7.000000</td>\n",
              "      <td>89.000000</td>\n",
              "      <td>6.000000</td>\n",
              "      <td>32.000000</td>\n",
              "    </tr>\n",
              "    <tr>\n",
              "      <th>boy band</th>\n",
              "      <td>4.000000</td>\n",
              "      <td>138.000000</td>\n",
              "      <td>84.000000</td>\n",
              "      <td>73.000000</td>\n",
              "      <td>181.000000</td>\n",
              "      <td>11.000000</td>\n",
              "      <td>-5.000000</td>\n",
              "      <td>80.000000</td>\n",
              "      <td>6.000000</td>\n",
              "      <td>95.000000</td>\n",
              "    </tr>\n",
              "    <tr>\n",
              "      <th>brostep</th>\n",
              "      <td>13.000000</td>\n",
              "      <td>94.000000</td>\n",
              "      <td>67.500000</td>\n",
              "      <td>70.500000</td>\n",
              "      <td>198.785000</td>\n",
              "      <td>37.500000</td>\n",
              "      <td>-2.500000</td>\n",
              "      <td>88.000000</td>\n",
              "      <td>5.000000</td>\n",
              "      <td>55.500000</td>\n",
              "    </tr>\n",
              "    <tr>\n",
              "      <th>canadian hip hop</th>\n",
              "      <td>21.666667</td>\n",
              "      <td>109.000000</td>\n",
              "      <td>80.000000</td>\n",
              "      <td>45.000000</td>\n",
              "      <td>193.086667</td>\n",
              "      <td>15.000000</td>\n",
              "      <td>-6.333333</td>\n",
              "      <td>89.666667</td>\n",
              "      <td>5.333333</td>\n",
              "      <td>33.333333</td>\n",
              "    </tr>\n",
              "    <tr>\n",
              "      <th>canadian pop</th>\n",
              "      <td>26.500000</td>\n",
              "      <td>120.500000</td>\n",
              "      <td>72.500000</td>\n",
              "      <td>68.500000</td>\n",
              "      <td>191.450000</td>\n",
              "      <td>10.500000</td>\n",
              "      <td>-5.000000</td>\n",
              "      <td>74.500000</td>\n",
              "      <td>4.500000</td>\n",
              "      <td>81.000000</td>\n",
              "    </tr>\n",
              "    <tr>\n",
              "      <th>country rap</th>\n",
              "      <td>19.500000</td>\n",
              "      <td>145.000000</td>\n",
              "      <td>79.000000</td>\n",
              "      <td>60.500000</td>\n",
              "      <td>136.355000</td>\n",
              "      <td>11.500000</td>\n",
              "      <td>-6.000000</td>\n",
              "      <td>89.000000</td>\n",
              "      <td>9.000000</td>\n",
              "      <td>56.000000</td>\n",
              "    </tr>\n",
              "    <tr>\n",
              "      <th>dance pop</th>\n",
              "      <td>27.000000</td>\n",
              "      <td>111.875000</td>\n",
              "      <td>70.250000</td>\n",
              "      <td>59.875000</td>\n",
              "      <td>202.630000</td>\n",
              "      <td>15.500000</td>\n",
              "      <td>-6.125000</td>\n",
              "      <td>85.750000</td>\n",
              "      <td>15.250000</td>\n",
              "      <td>45.875000</td>\n",
              "    </tr>\n",
              "    <tr>\n",
              "      <th>dfw rap</th>\n",
              "      <td>50.500000</td>\n",
              "      <td>120.000000</td>\n",
              "      <td>67.000000</td>\n",
              "      <td>56.500000</td>\n",
              "      <td>166.590000</td>\n",
              "      <td>9.000000</td>\n",
              "      <td>-5.000000</td>\n",
              "      <td>92.500000</td>\n",
              "      <td>6.000000</td>\n",
              "      <td>54.500000</td>\n",
              "    </tr>\n",
              "    <tr>\n",
              "      <th>edm</th>\n",
              "      <td>12.333333</td>\n",
              "      <td>97.666667</td>\n",
              "      <td>52.333333</td>\n",
              "      <td>63.000000</td>\n",
              "      <td>218.666667</td>\n",
              "      <td>20.333333</td>\n",
              "      <td>-7.000000</td>\n",
              "      <td>86.666667</td>\n",
              "      <td>3.333333</td>\n",
              "      <td>42.000000</td>\n",
              "    </tr>\n",
              "    <tr>\n",
              "      <th>electropop</th>\n",
              "      <td>29.000000</td>\n",
              "      <td>135.000000</td>\n",
              "      <td>68.500000</td>\n",
              "      <td>44.000000</td>\n",
              "      <td>194.975000</td>\n",
              "      <td>11.000000</td>\n",
              "      <td>-11.000000</td>\n",
              "      <td>92.000000</td>\n",
              "      <td>34.000000</td>\n",
              "      <td>62.000000</td>\n",
              "    </tr>\n",
              "    <tr>\n",
              "      <th>escape room</th>\n",
              "      <td>11.000000</td>\n",
              "      <td>158.000000</td>\n",
              "      <td>72.000000</td>\n",
              "      <td>62.000000</td>\n",
              "      <td>173.000000</td>\n",
              "      <td>12.000000</td>\n",
              "      <td>-3.000000</td>\n",
              "      <td>91.000000</td>\n",
              "      <td>11.000000</td>\n",
              "      <td>41.000000</td>\n",
              "    </tr>\n",
              "    <tr>\n",
              "      <th>latin</th>\n",
              "      <td>17.800000</td>\n",
              "      <td>126.200000</td>\n",
              "      <td>72.000000</td>\n",
              "      <td>76.600000</td>\n",
              "      <td>225.330000</td>\n",
              "      <td>21.000000</td>\n",
              "      <td>-4.200000</td>\n",
              "      <td>89.800000</td>\n",
              "      <td>14.600000</td>\n",
              "      <td>72.600000</td>\n",
              "    </tr>\n",
              "    <tr>\n",
              "      <th>panamanian pop</th>\n",
              "      <td>10.500000</td>\n",
              "      <td>176.000000</td>\n",
              "      <td>74.000000</td>\n",
              "      <td>74.500000</td>\n",
              "      <td>257.166500</td>\n",
              "      <td>8.500000</td>\n",
              "      <td>-3.500000</td>\n",
              "      <td>89.000000</td>\n",
              "      <td>27.000000</td>\n",
              "      <td>69.000000</td>\n",
              "    </tr>\n",
              "    <tr>\n",
              "      <th>pop</th>\n",
              "      <td>21.428571</td>\n",
              "      <td>114.142857</td>\n",
              "      <td>68.428571</td>\n",
              "      <td>63.285714</td>\n",
              "      <td>195.608571</td>\n",
              "      <td>12.142857</td>\n",
              "      <td>-6.285714</td>\n",
              "      <td>85.857143</td>\n",
              "      <td>9.285714</td>\n",
              "      <td>58.000000</td>\n",
              "    </tr>\n",
              "    <tr>\n",
              "      <th>pop house</th>\n",
              "      <td>4.000000</td>\n",
              "      <td>124.000000</td>\n",
              "      <td>68.000000</td>\n",
              "      <td>74.000000</td>\n",
              "      <td>153.000000</td>\n",
              "      <td>7.000000</td>\n",
              "      <td>-7.000000</td>\n",
              "      <td>91.000000</td>\n",
              "      <td>3.000000</td>\n",
              "      <td>63.000000</td>\n",
              "    </tr>\n",
              "    <tr>\n",
              "      <th>r&amp;b en espanol</th>\n",
              "      <td>39.000000</td>\n",
              "      <td>98.000000</td>\n",
              "      <td>88.000000</td>\n",
              "      <td>69.000000</td>\n",
              "      <td>162.000000</td>\n",
              "      <td>5.000000</td>\n",
              "      <td>-4.000000</td>\n",
              "      <td>88.000000</td>\n",
              "      <td>12.000000</td>\n",
              "      <td>75.000000</td>\n",
              "    </tr>\n",
              "    <tr>\n",
              "      <th>reggaeton</th>\n",
              "      <td>41.000000</td>\n",
              "      <td>136.000000</td>\n",
              "      <td>69.500000</td>\n",
              "      <td>66.500000</td>\n",
              "      <td>213.500000</td>\n",
              "      <td>16.500000</td>\n",
              "      <td>-5.000000</td>\n",
              "      <td>91.000000</td>\n",
              "      <td>29.500000</td>\n",
              "      <td>46.000000</td>\n",
              "    </tr>\n",
              "    <tr>\n",
              "      <th>reggaeton flow</th>\n",
              "      <td>11.000000</td>\n",
              "      <td>98.500000</td>\n",
              "      <td>80.000000</td>\n",
              "      <td>80.000000</td>\n",
              "      <td>305.730000</td>\n",
              "      <td>8.500000</td>\n",
              "      <td>-4.000000</td>\n",
              "      <td>87.500000</td>\n",
              "      <td>8.000000</td>\n",
              "      <td>59.500000</td>\n",
              "    </tr>\n",
              "    <tr>\n",
              "      <th>trap music</th>\n",
              "      <td>2.000000</td>\n",
              "      <td>180.000000</td>\n",
              "      <td>75.000000</td>\n",
              "      <td>64.000000</td>\n",
              "      <td>131.840000</td>\n",
              "      <td>7.000000</td>\n",
              "      <td>-6.000000</td>\n",
              "      <td>92.000000</td>\n",
              "      <td>29.000000</td>\n",
              "      <td>23.000000</td>\n",
              "    </tr>\n",
              "  </tbody>\n",
              "</table>\n",
              "</div>"
            ],
            "text/plain": [
              "                  Acousticness..  Beats.Per.Minute  ...  Speechiness.   Valence.\n",
              "Genre                                               ...                         \n",
              "atl hip hop             2.000000         98.000000  ...     15.000000  18.000000\n",
              "australian pop         69.000000         98.000000  ...     10.000000  54.000000\n",
              "big room               18.000000        114.000000  ...      6.000000  32.000000\n",
              "boy band                4.000000        138.000000  ...      6.000000  95.000000\n",
              "brostep                13.000000         94.000000  ...      5.000000  55.500000\n",
              "canadian hip hop       21.666667        109.000000  ...      5.333333  33.333333\n",
              "canadian pop           26.500000        120.500000  ...      4.500000  81.000000\n",
              "country rap            19.500000        145.000000  ...      9.000000  56.000000\n",
              "dance pop              27.000000        111.875000  ...     15.250000  45.875000\n",
              "dfw rap                50.500000        120.000000  ...      6.000000  54.500000\n",
              "edm                    12.333333         97.666667  ...      3.333333  42.000000\n",
              "electropop             29.000000        135.000000  ...     34.000000  62.000000\n",
              "escape room            11.000000        158.000000  ...     11.000000  41.000000\n",
              "latin                  17.800000        126.200000  ...     14.600000  72.600000\n",
              "panamanian pop         10.500000        176.000000  ...     27.000000  69.000000\n",
              "pop                    21.428571        114.142857  ...      9.285714  58.000000\n",
              "pop house               4.000000        124.000000  ...      3.000000  63.000000\n",
              "r&b en espanol         39.000000         98.000000  ...     12.000000  75.000000\n",
              "reggaeton              41.000000        136.000000  ...     29.500000  46.000000\n",
              "reggaeton flow         11.000000         98.500000  ...      8.000000  59.500000\n",
              "trap music              2.000000        180.000000  ...     29.000000  23.000000\n",
              "\n",
              "[21 rows x 10 columns]"
            ]
          },
          "metadata": {},
          "execution_count": 31
        }
      ]
    },
    {
      "cell_type": "markdown",
      "metadata": {
        "id": "OenmLtB3N3MG"
      },
      "source": [
        "#**Popularity distribution**"
      ]
    },
    {
      "cell_type": "code",
      "metadata": {
        "colab": {
          "base_uri": "https://localhost:8080/",
          "height": 479
        },
        "id": "AHSaDedjN4cz",
        "outputId": "50a9d605-e89d-461e-b34c-49cb5b279ffe"
      },
      "source": [
        "plt.figure(figsize = (10,6))\n",
        "#sns.set_theme(style=\"whitegrid\")\n",
        "plot = sns.swarmplot(x='Genre', y='Popularity', data=df, size=8)\n",
        "plt.setp(plot.get_xticklabels(), rotation=70)\n",
        "plt.title('Popularity distribution')\n",
        "plt.show()"
      ],
      "execution_count": null,
      "outputs": [
        {
          "output_type": "display_data",
          "data": {
            "image/png": "[encoded data removed]",
            "text/plain": [
              "<Figure size 720x432 with 1 Axes>"
            ]
          },
          "metadata": {
            "needs_background": "light"
          }
        }
      ]
    },
    {
      "cell_type": "markdown",
      "metadata": {
        "id": "ldX5pS_wN8Vg"
      },
      "source": [
        "#**Beats per minute distribution**"
      ]
    },
    {
      "cell_type": "code",
      "metadata": {
        "colab": {
          "base_uri": "https://localhost:8080/",
          "height": 479
        },
        "id": "OiaPPX35N9oX",
        "outputId": "75f3a926-a490-4af7-b3f1-95a3b39b29ea"
      },
      "source": [
        "plt.figure(figsize = (10,6))\n",
        "#sns.set_theme(style=\"whitegrid\")\n",
        "plot = sns.stripplot(x='Genre', y='Beats.Per.Minute', data=df, size=8)\n",
        "plt.setp(plot.get_xticklabels(), rotation=70)\n",
        "plt.title('BPM distribution')\n",
        "plt.show()"
      ],
      "execution_count": null,
      "outputs": [
        {
          "output_type": "display_data",
          "data": {
            "image/png": "[encoded data removed]",
            "text/plain": [
              "<Figure size 720x432 with 1 Axes>"
            ]
          },
          "metadata": {
            "needs_background": "light"
          }
        }
      ]
    },
    {
      "cell_type": "markdown",
      "metadata": {
        "id": "N1YVrsm8OL9L"
      },
      "source": [
        "#**Which music genres are the most popular**"
      ]
    },
    {
      "cell_type": "code",
      "metadata": {
        "colab": {
          "base_uri": "https://localhost:8080/",
          "height": 585
        },
        "id": "Pa0bGB60OOAW",
        "outputId": "c118789b-b8cb-4d1b-a1db-5e3b9051c3bf"
      },
      "source": [
        "plt.figure(figsize = (16,8))\n",
        "genre_grouped = df.groupby('Genre')['Popularity'].sum().sort_values(ascending=False)\n",
        "chart = sns.barplot(x=genre_grouped.index, y=genre_grouped)\n",
        "plt.xticks(rotation=70)\n",
        "plt.title('The most popular music genres')\n",
        "plt.tight_layout()"
      ],
      "execution_count": null,
      "outputs": [
        {
          "output_type": "display_data",
          "data": {
            "image/png": "[encoded data removed]",
            "text/plain": [
              "<Figure size 1152x576 with 1 Axes>"
            ]
          },
          "metadata": {
            "needs_background": "light"
          }
        }
      ]
    },
    {
      "cell_type": "code",
      "metadata": {
        "colab": {
          "base_uri": "https://localhost:8080/",
          "height": 585
        },
        "id": "iqqW4M4ROXhx",
        "outputId": "862be89e-80d4-42ea-8f99-cd50e8a961ab"
      },
      "source": [
        "unique_genre = df['Genre'].drop_duplicates(keep='first') \n",
        "main_genres = ['pop','hip hop',' rap','r&b', 'edm', 'trap', 'latin', 'escape room', 'brostep', 'big room'] \n",
        "df.loc[df['Genre'].str.contains('reggae'), 'Genre'] = 'latin'\n",
        "df.loc[df['Genre'].str.contains('boy band'), 'Genre'] = 'pop'\n",
        "\n",
        "d = {'Key':[],'Value':[]}\n",
        "for genre in main_genres:\n",
        "    count = df['Genre'].str.contains(genre).sum()\n",
        "    d['Key'].append(count)\n",
        "    d['Value'].append(genre)\n",
        "\n",
        "dff = pd.DataFrame(d)\n",
        "dff.sort_values(['Key'], ascending=False, inplace=True)\n",
        "dff.plot('Value','Key', kind='bar', figsize=(16,8), legend=False, colormap='Paired', fontsize=12)\n",
        "plt.title('The most popular main music genres')\n",
        "plt.xlabel('Genre')\n",
        "plt.ylabel('Popularity')\n",
        "plt.tight_layout()"
      ],
      "execution_count": null,
      "outputs": [
        {
          "output_type": "display_data",
          "data": {
            "image/png": "[encoded data removed]",
            "text/plain": [
              "<Figure size 1152x576 with 1 Axes>"
            ]
          },
          "metadata": {
            "needs_background": "light"
          }
        }
      ]
    },
    {
      "cell_type": "markdown",
      "metadata": {
        "id": "zIrCGcMEOd6X"
      },
      "source": [
        "#**Which artist has the most songs in top list**"
      ]
    },
    {
      "cell_type": "code",
      "metadata": {
        "colab": {
          "base_uri": "https://localhost:8080/",
          "height": 585
        },
        "id": "DjPnxEsKOg-3",
        "outputId": "206126d3-0d3b-4d56-bb34-a3a2be9d1a08"
      },
      "source": [
        "plt.figure(figsize = (12,8))\n",
        "artist = df['Artist.Name'].value_counts()[:10]\n",
        "sns.barplot(x=artist.index, y=artist, palette=\"Blues_d\")\n",
        "plt.xticks(rotation=70)\n",
        "plt.xlabel('Artist name')\n",
        "plt.ylabel('Number of songs')\n",
        "plt.title('Top 10 artists')\n",
        "plt.tight_layout()"
      ],
      "execution_count": null,
      "outputs": [
        {
          "output_type": "display_data",
          "data": {
            "image/png": "[encoded data removed]",
            "text/plain": [
              "<Figure size 864x576 with 1 Axes>"
            ]
          },
          "metadata": {
            "needs_background": "light"
          }
        }
      ]
    },
    {
      "cell_type": "markdown",
      "metadata": {
        "id": "gPA3pHWHOk7v"
      },
      "source": [
        "#**Plot  the data and a linear regression model fit**"
      ]
    },
    {
      "cell_type": "code",
      "metadata": {
        "colab": {
          "base_uri": "https://localhost:8080/",
          "height": 877
        },
        "id": "a6VQ7UJQOn0J",
        "outputId": "764ee70d-6c4c-442c-cf77-b7203fe2c9c3"
      },
      "source": [
        "fig,axs = plt.subplots(2,2)\n",
        "fig.set_figheight(15)\n",
        "fig.set_figwidth(15)\n",
        "sns.regplot(x='Danceability',y='Popularity', ax=axs[0,1], data=df,color='g')\n",
        "sns.regplot(x='Speechiness.',y='Popularity', ax=axs[0,0], data=df)\n",
        "sns.regplot(x='Beats.Per.Minute',y='Popularity', ax=axs[1,0], data=df)\n",
        "sns.regplot(x='Valence.',y='Popularity', ax=axs[1,1], data=df,color='g')\n",
        "plt.show()"
      ],
      "execution_count": null,
      "outputs": [
        {
          "output_type": "display_data",
          "data": {
            "image/png": "[encoded data removed]",
            "text/plain": [
              "<Figure size 1080x1080 with 4 Axes>"
            ]
          },
          "metadata": {
            "needs_background": "light"
          }
        }
      ]
    },
    {
      "cell_type": "markdown",
      "metadata": {
        "id": "LcZjGc0bOsJg"
      },
      "source": [
        "#**The target feature and the predictor features**"
      ]
    },
    {
      "cell_type": "code",
      "metadata": {
        "id": "NRwYAvG6OtWx"
      },
      "source": [
        "scaler = MinMaxScaler()\n",
        "y=df['Popularity']\n",
        "X=scaler.fit_transform(df[['Speechiness.','Beats.Per.Minute','Valence.','Liveness']])\n",
        "X_train, X_test, y_train, y_test = train_test_split(X, y, test_size=0.3)"
      ],
      "execution_count": null,
      "outputs": []
    },
    {
      "cell_type": "markdown",
      "metadata": {
        "id": "m73lv4s1Ox0s"
      },
      "source": [
        "#**Putting the Algorithms**"
      ]
    },
    {
      "cell_type": "markdown",
      "metadata": {
        "id": "X3msTdq0O1EF"
      },
      "source": [
        "#**k-Nearest Neighbors**"
      ]
    },
    {
      "cell_type": "code",
      "metadata": {
        "colab": {
          "base_uri": "https://localhost:8080/"
        },
        "id": "XwtWdLcpO48F",
        "outputId": "e190af1d-4b1a-46d4-d54e-1e638817a997"
      },
      "source": [
        "knn_model = KNeighborsRegressor(n_neighbors=7) # k na początku 3; pierwiastek z ilości data points u mnie pier z 50\n",
        "knn_model.fit(X_train, y_train)\n",
        "train_preds = knn_model.predict(X_train)\n",
        "mse = mean_squared_error(y_train, train_preds)\n",
        "rmse = sqrt(mse)\n",
        "test_preds = knn_model.predict(X_test)\n",
        "mse = mean_squared_error(y_test, test_preds)\n",
        "rmse = sqrt(mse)\n",
        "print('RMSE test',rmse)"
      ],
      "execution_count": null,
      "outputs": [
        {
          "output_type": "stream",
          "name": "stdout",
          "text": [
            "RMSE test 3.2050130800883503\n"
          ]
        }
      ]
    },
    {
      "cell_type": "markdown",
      "metadata": {
        "id": "uM_fmYD6O7zQ"
      },
      "source": [
        "#**Random Forest**"
      ]
    },
    {
      "cell_type": "code",
      "metadata": {
        "colab": {
          "base_uri": "https://localhost:8080/"
        },
        "id": "fCjzHtfiPA-f",
        "outputId": "3e9b7638-85b3-4c86-faed-33f902eb5ec1"
      },
      "source": [
        "clf=RandomForestClassifier(n_estimators=100)\n",
        "clf.fit(X_train,y_train)\n",
        "y_pred=clf.predict(X_test)\n",
        "mse = mean_squared_error(y_test, y_pred)\n",
        "rmse = sqrt(mse)\n",
        "print('RMSE test',rmse)"
      ],
      "execution_count": null,
      "outputs": [
        {
          "output_type": "stream",
          "name": "stdout",
          "text": [
            "RMSE test 5.37277085558901\n"
          ]
        }
      ]
    }
  ]
}